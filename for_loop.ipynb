{
 "cells": [
  {
   "cell_type": "code",
   "execution_count": 2,
   "id": "aa787e05",
   "metadata": {},
   "outputs": [
    {
     "name": "stdout",
     "output_type": "stream",
     "text": [
      "hello\n",
      "hello\n",
      "hello\n",
      "hello\n",
      "hello\n",
      "hello\n"
     ]
    }
   ],
   "source": [
    "for i in 'python':\n",
    "    print('hello')"
   ]
  },
  {
   "cell_type": "code",
   "execution_count": 5,
   "id": "66d38c6e",
   "metadata": {},
   "outputs": [
    {
     "name": "stdout",
     "output_type": "stream",
     "text": [
      "manish\n",
      "shan\n",
      "jeet\n",
      "rahul\n"
     ]
    }
   ],
   "source": [
    "for i in ('manish','shan','jeet','rahul'):\n",
    "    print(i)"
   ]
  },
  {
   "cell_type": "code",
   "execution_count": 6,
   "id": "bf112c74",
   "metadata": {},
   "outputs": [
    {
     "name": "stdout",
     "output_type": "stream",
     "text": [
      "0\n",
      "1\n",
      "2\n",
      "3\n",
      "4\n",
      "5\n",
      "6\n",
      "7\n",
      "8\n",
      "9\n"
     ]
    }
   ],
   "source": [
    "for i in range(10):\n",
    "    print(i)"
   ]
  },
  {
   "cell_type": "code",
   "execution_count": 7,
   "id": "0687203f",
   "metadata": {},
   "outputs": [
    {
     "name": "stdout",
     "output_type": "stream",
     "text": [
      "10\n",
      "11\n",
      "12\n",
      "13\n",
      "14\n",
      "15\n",
      "16\n",
      "17\n",
      "18\n",
      "19\n"
     ]
    }
   ],
   "source": [
    "for i in range(10,20):\n",
    "    print(i)"
   ]
  },
  {
   "cell_type": "code",
   "execution_count": 8,
   "id": "8d83ded1",
   "metadata": {},
   "outputs": [
    {
     "name": "stdout",
     "output_type": "stream",
     "text": [
      "10\n",
      "13\n",
      "16\n",
      "19\n",
      "22\n",
      "25\n",
      "28\n"
     ]
    }
   ],
   "source": [
    "for i in range(10,30,3):\n",
    "    print(i)"
   ]
  },
  {
   "cell_type": "code",
   "execution_count": 9,
   "id": "7920e8c6",
   "metadata": {},
   "outputs": [],
   "source": [
    "l=[1,2,34,4,6,6,7,8,9,90]"
   ]
  },
  {
   "cell_type": "code",
   "execution_count": 12,
   "id": "9dabcd44",
   "metadata": {},
   "outputs": [],
   "source": [
    "l1=[]\n",
    "for i in l:\n",
    "    l1.append(i**3)"
   ]
  },
  {
   "cell_type": "code",
   "execution_count": 13,
   "id": "50d99b3c",
   "metadata": {},
   "outputs": [
    {
     "name": "stdout",
     "output_type": "stream",
     "text": [
      "[1, 8, 39304, 64, 216, 216, 343, 512, 729, 729000]\n"
     ]
    }
   ],
   "source": [
    "print(l1)"
   ]
  },
  {
   "cell_type": "code",
   "execution_count": 14,
   "id": "df48cfba",
   "metadata": {},
   "outputs": [
    {
     "data": {
      "text/plain": [
       "[1, 2, 34, 4, 6, 6, 7, 8, 9, 90]"
      ]
     },
     "execution_count": 14,
     "metadata": {},
     "output_type": "execute_result"
    }
   ],
   "source": [
    "l"
   ]
  },
  {
   "cell_type": "code",
   "execution_count": 15,
   "id": "02ccaa1a",
   "metadata": {},
   "outputs": [],
   "source": [
    "p='gvgy%%^^%R6r54fcgfd4645R^R%*^'"
   ]
  },
  {
   "cell_type": "code",
   "execution_count": 16,
   "id": "3403bb5e",
   "metadata": {},
   "outputs": [
    {
     "name": "stdout",
     "output_type": "stream",
     "text": [
      "alphabet:  gvgyRrfcgfdRR\n",
      "digits:  6544645\n",
      "special : %%^^%^%*^\n"
     ]
    }
   ],
   "source": [
    "alpha=''\n",
    "digit=''\n",
    "special=''\n",
    "for i in p:\n",
    "    if i.isalpha():\n",
    "        alpha=alpha+i\n",
    "    elif i.isdigit():\n",
    "        digit=digit+i\n",
    "    else:\n",
    "        special=special+i\n",
    "print('alphabet: ',alpha)\n",
    "print('digits: ',digit)\n",
    "print('special :',special)\n",
    "    "
   ]
  },
  {
   "cell_type": "code",
   "execution_count": 26,
   "id": "73c4a582",
   "metadata": {},
   "outputs": [],
   "source": [
    "d=['pat','tap','string','apt','trings','moha','han','mann','nnam','trinsg']\n",
    "query=['tap','string']"
   ]
  },
  {
   "cell_type": "code",
   "execution_count": 27,
   "id": "66917eef",
   "metadata": {},
   "outputs": [],
   "source": [
    "d1={}\n",
    "for i in query:\n",
    "    t=0\n",
    "    for j in d:\n",
    "        if sorted(i)==sorted(j):\n",
    "            t+=1\n",
    "            d1[i]=t\n",
    "            \n",
    "            \n",
    "            \n",
    "            \n",
    "            \n",
    "            \n",
    "            "
   ]
  },
  {
   "cell_type": "code",
   "execution_count": 29,
   "id": "9377a80e",
   "metadata": {},
   "outputs": [
    {
     "data": {
      "text/plain": [
       "{'tap': 3, 'string': 3}"
      ]
     },
     "execution_count": 29,
     "metadata": {},
     "output_type": "execute_result"
    }
   ],
   "source": [
    "d1"
   ]
  },
  {
   "cell_type": "code",
   "execution_count": 30,
   "id": "6ef2eb3b",
   "metadata": {},
   "outputs": [],
   "source": [
    "p=[123,121,12321,12321,112211,12345,65432,33245,54543245]\n",
    "  "
   ]
  },
  {
   "cell_type": "code",
   "execution_count": null,
   "id": "b3b89d5e",
   "metadata": {},
   "outputs": [],
   "source": []
  }
 ],
 "metadata": {
  "kernelspec": {
   "display_name": "Python 3 (ipykernel)",
   "language": "python",
   "name": "python3"
  },
  "language_info": {
   "codemirror_mode": {
    "name": "ipython",
    "version": 3
   },
   "file_extension": ".py",
   "mimetype": "text/x-python",
   "name": "python",
   "nbconvert_exporter": "python",
   "pygments_lexer": "ipython3",
   "version": "3.9.6"
  }
 },
 "nbformat": 4,
 "nbformat_minor": 5
}
