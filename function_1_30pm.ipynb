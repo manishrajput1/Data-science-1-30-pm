{
 "cells": [
  {
   "cell_type": "code",
   "execution_count": 1,
   "id": "ab2df18f",
   "metadata": {},
   "outputs": [
    {
     "data": {
      "text/plain": [
       "range(0, 10)"
      ]
     },
     "execution_count": 1,
     "metadata": {},
     "output_type": "execute_result"
    }
   ],
   "source": [
    "range(10)"
   ]
  },
  {
   "cell_type": "code",
   "execution_count": 2,
   "id": "89f386ec",
   "metadata": {},
   "outputs": [
    {
     "name": "stdout",
     "output_type": "stream",
     "text": [
      "0\n",
      "1\n",
      "2\n",
      "3\n",
      "4\n",
      "5\n",
      "6\n",
      "7\n",
      "8\n",
      "9\n"
     ]
    }
   ],
   "source": [
    "for i in range(10):\n",
    "    print(i)"
   ]
  },
  {
   "cell_type": "code",
   "execution_count": 3,
   "id": "92a2a92f",
   "metadata": {},
   "outputs": [
    {
     "data": {
      "text/plain": [
       "[0, 1, 2, 3, 4, 5, 6, 7, 8, 9]"
      ]
     },
     "execution_count": 3,
     "metadata": {},
     "output_type": "execute_result"
    }
   ],
   "source": [
    "list(range(10))"
   ]
  },
  {
   "cell_type": "code",
   "execution_count": 4,
   "id": "0c88dff1",
   "metadata": {},
   "outputs": [
    {
     "data": {
      "text/plain": [
       "range(10, 20)"
      ]
     },
     "execution_count": 4,
     "metadata": {},
     "output_type": "execute_result"
    }
   ],
   "source": [
    "range(10,20)"
   ]
  },
  {
   "cell_type": "code",
   "execution_count": 27,
   "id": "e92eaa84",
   "metadata": {},
   "outputs": [],
   "source": [
    "def my_range(*a):\n",
    "    l=list(a)\n",
    "    if len(l)==1:\n",
    "        start=0\n",
    "        end=l[-1]\n",
    "        while start<end:\n",
    "            yield start\n",
    "            start+=1\n",
    "    elif len(l)==2:\n",
    "        start=l[0]\n",
    "        end=l[1]\n",
    "        while start<end:\n",
    "            yield start\n",
    "            start+=1\n",
    "    elif len(l)==3:\n",
    "        start=l[0]\n",
    "        end=l[1]\n",
    "        step=l[2]\n",
    "        if step<0:\n",
    "            while start>end:\n",
    "                yield start\n",
    "                start+=step\n",
    "        else:\n",
    "            while start<end:\n",
    "                yield start\n",
    "                start+=step\n",
    "    elif len(l)>3:\n",
    "        raise TypeError(f'my_range expected at most 3 arguments, got {len(l)}')"
   ]
  },
  {
   "cell_type": "code",
   "execution_count": 28,
   "id": "a0062a9d",
   "metadata": {},
   "outputs": [
    {
     "data": {
      "text/plain": [
       "range(0, 10)"
      ]
     },
     "execution_count": 28,
     "metadata": {},
     "output_type": "execute_result"
    }
   ],
   "source": [
    "range(10)"
   ]
  },
  {
   "cell_type": "code",
   "execution_count": 29,
   "id": "9253dbea",
   "metadata": {},
   "outputs": [
    {
     "data": {
      "text/plain": [
       "<generator object my_range at 0x000002207A6C4B30>"
      ]
     },
     "execution_count": 29,
     "metadata": {},
     "output_type": "execute_result"
    }
   ],
   "source": [
    "my_range(10)"
   ]
  },
  {
   "cell_type": "code",
   "execution_count": 30,
   "id": "69abbc6c",
   "metadata": {},
   "outputs": [
    {
     "ename": "TypeError",
     "evalue": "range expected at most 3 arguments, got 4",
     "output_type": "error",
     "traceback": [
      "\u001b[1;31m---------------------------------------------------------------------------\u001b[0m",
      "\u001b[1;31mTypeError\u001b[0m                                 Traceback (most recent call last)",
      "\u001b[1;32m~\\AppData\\Local\\Temp/ipykernel_10652/4226101629.py\u001b[0m in \u001b[0;36m<module>\u001b[1;34m\u001b[0m\n\u001b[1;32m----> 1\u001b[1;33m \u001b[0mlist\u001b[0m\u001b[1;33m(\u001b[0m\u001b[0mrange\u001b[0m\u001b[1;33m(\u001b[0m\u001b[1;33m-\u001b[0m\u001b[1;36m20\u001b[0m\u001b[1;33m,\u001b[0m\u001b[1;33m-\u001b[0m\u001b[1;36m10\u001b[0m\u001b[1;33m,\u001b[0m\u001b[1;36m4\u001b[0m\u001b[1;33m,\u001b[0m\u001b[1;36m5\u001b[0m\u001b[1;33m)\u001b[0m\u001b[1;33m)\u001b[0m\u001b[1;33m\u001b[0m\u001b[1;33m\u001b[0m\u001b[0m\n\u001b[0m",
      "\u001b[1;31mTypeError\u001b[0m: range expected at most 3 arguments, got 4"
     ]
    }
   ],
   "source": [
    "list(range(-20,-10,4,5))"
   ]
  },
  {
   "cell_type": "code",
   "execution_count": 33,
   "id": "95d208ba",
   "metadata": {},
   "outputs": [
    {
     "ename": "TypeError",
     "evalue": "my_range expected at most 3 arguments, got 5",
     "output_type": "error",
     "traceback": [
      "\u001b[1;31m---------------------------------------------------------------------------\u001b[0m",
      "\u001b[1;31mTypeError\u001b[0m                                 Traceback (most recent call last)",
      "\u001b[1;32m~\\AppData\\Local\\Temp/ipykernel_10652/670631132.py\u001b[0m in \u001b[0;36m<module>\u001b[1;34m\u001b[0m\n\u001b[1;32m----> 1\u001b[1;33m \u001b[0mlist\u001b[0m\u001b[1;33m(\u001b[0m\u001b[0mmy_range\u001b[0m\u001b[1;33m(\u001b[0m\u001b[1;33m-\u001b[0m\u001b[1;36m20\u001b[0m\u001b[1;33m,\u001b[0m\u001b[1;33m-\u001b[0m\u001b[1;36m10\u001b[0m\u001b[1;33m,\u001b[0m\u001b[1;36m4\u001b[0m\u001b[1;33m,\u001b[0m\u001b[1;36m5\u001b[0m\u001b[1;33m,\u001b[0m\u001b[1;36m7\u001b[0m\u001b[1;33m)\u001b[0m\u001b[1;33m)\u001b[0m\u001b[1;33m\u001b[0m\u001b[1;33m\u001b[0m\u001b[0m\n\u001b[0m",
      "\u001b[1;32m~\\AppData\\Local\\Temp/ipykernel_10652/3457221810.py\u001b[0m in \u001b[0;36mmy_range\u001b[1;34m(*a)\u001b[0m\n\u001b[0;32m     26\u001b[0m                 \u001b[0mstart\u001b[0m\u001b[1;33m+=\u001b[0m\u001b[0mstep\u001b[0m\u001b[1;33m\u001b[0m\u001b[1;33m\u001b[0m\u001b[0m\n\u001b[0;32m     27\u001b[0m     \u001b[1;32melif\u001b[0m \u001b[0mlen\u001b[0m\u001b[1;33m(\u001b[0m\u001b[0ml\u001b[0m\u001b[1;33m)\u001b[0m\u001b[1;33m>\u001b[0m\u001b[1;36m3\u001b[0m\u001b[1;33m:\u001b[0m\u001b[1;33m\u001b[0m\u001b[1;33m\u001b[0m\u001b[0m\n\u001b[1;32m---> 28\u001b[1;33m         \u001b[1;32mraise\u001b[0m \u001b[0mTypeError\u001b[0m\u001b[1;33m(\u001b[0m\u001b[1;34mf'my_range expected at most 3 arguments, got {len(l)}'\u001b[0m\u001b[1;33m)\u001b[0m\u001b[1;33m\u001b[0m\u001b[1;33m\u001b[0m\u001b[0m\n\u001b[0m",
      "\u001b[1;31mTypeError\u001b[0m: my_range expected at most 3 arguments, got 5"
     ]
    }
   ],
   "source": [
    "list(my_range(-20,-10,4,5,7))"
   ]
  },
  {
   "cell_type": "code",
   "execution_count": 34,
   "id": "f9797a15",
   "metadata": {},
   "outputs": [
    {
     "name": "stdout",
     "output_type": "stream",
     "text": [
      "0\n",
      "1\n",
      "2\n",
      "3\n",
      "4\n",
      "5\n",
      "6\n",
      "7\n",
      "8\n",
      "9\n"
     ]
    }
   ],
   "source": [
    "for i in my_range(10):\n",
    "    print(i)"
   ]
  },
  {
   "cell_type": "code",
   "execution_count": 35,
   "id": "807cabcc",
   "metadata": {},
   "outputs": [],
   "source": [
    "# len\n",
    "# count\n",
    "# min\n",
    "# max\n",
    "# sum"
   ]
  },
  {
   "cell_type": "code",
   "execution_count": 36,
   "id": "21ec749c",
   "metadata": {},
   "outputs": [],
   "source": [
    "# predefine and userdefine"
   ]
  },
  {
   "cell_type": "code",
   "execution_count": 37,
   "id": "78a96f5b",
   "metadata": {},
   "outputs": [],
   "source": [
    "import builtins"
   ]
  },
  {
   "cell_type": "code",
   "execution_count": 38,
   "id": "d7f282a7",
   "metadata": {},
   "outputs": [
    {
     "name": "stdout",
     "output_type": "stream",
     "text": [
      "['ArithmeticError', 'AssertionError', 'AttributeError', 'BaseException', 'BlockingIOError', 'BrokenPipeError', 'BufferError', 'BytesWarning', 'ChildProcessError', 'ConnectionAbortedError', 'ConnectionError', 'ConnectionRefusedError', 'ConnectionResetError', 'DeprecationWarning', 'EOFError', 'Ellipsis', 'EnvironmentError', 'Exception', 'False', 'FileExistsError', 'FileNotFoundError', 'FloatingPointError', 'FutureWarning', 'GeneratorExit', 'IOError', 'ImportError', 'ImportWarning', 'IndentationError', 'IndexError', 'InterruptedError', 'IsADirectoryError', 'KeyError', 'KeyboardInterrupt', 'LookupError', 'MemoryError', 'ModuleNotFoundError', 'NameError', 'None', 'NotADirectoryError', 'NotImplemented', 'NotImplementedError', 'OSError', 'OverflowError', 'PendingDeprecationWarning', 'PermissionError', 'ProcessLookupError', 'RecursionError', 'ReferenceError', 'ResourceWarning', 'RuntimeError', 'RuntimeWarning', 'StopAsyncIteration', 'StopIteration', 'SyntaxError', 'SyntaxWarning', 'SystemError', 'SystemExit', 'TabError', 'TimeoutError', 'True', 'TypeError', 'UnboundLocalError', 'UnicodeDecodeError', 'UnicodeEncodeError', 'UnicodeError', 'UnicodeTranslateError', 'UnicodeWarning', 'UserWarning', 'ValueError', 'Warning', 'WindowsError', 'ZeroDivisionError', '__IPYTHON__', '__build_class__', '__debug__', '__doc__', '__import__', '__loader__', '__name__', '__package__', '__spec__', 'abs', 'all', 'any', 'ascii', 'bin', 'bool', 'breakpoint', 'bytearray', 'bytes', 'callable', 'chr', 'classmethod', 'compile', 'complex', 'copyright', 'credits', 'delattr', 'dict', 'dir', 'display', 'divmod', 'enumerate', 'eval', 'exec', 'filter', 'float', 'format', 'frozenset', 'get_ipython', 'getattr', 'globals', 'hasattr', 'hash', 'help', 'hex', 'id', 'input', 'int', 'isinstance', 'issubclass', 'iter', 'len', 'license', 'list', 'locals', 'map', 'max', 'memoryview', 'min', 'next', 'object', 'oct', 'open', 'ord', 'pow', 'print', 'property', 'range', 'repr', 'reversed', 'round', 'set', 'setattr', 'slice', 'sorted', 'staticmethod', 'str', 'sum', 'super', 'tuple', 'type', 'vars', 'zip']\n"
     ]
    }
   ],
   "source": [
    "print(dir(builtins))"
   ]
  },
  {
   "cell_type": "code",
   "execution_count": 39,
   "id": "273d1de5",
   "metadata": {},
   "outputs": [],
   "source": [
    "u=-6678"
   ]
  },
  {
   "cell_type": "code",
   "execution_count": 40,
   "id": "24be8e1a",
   "metadata": {},
   "outputs": [
    {
     "data": {
      "text/plain": [
       "-6678"
      ]
     },
     "execution_count": 40,
     "metadata": {},
     "output_type": "execute_result"
    }
   ],
   "source": [
    "u"
   ]
  },
  {
   "cell_type": "code",
   "execution_count": 41,
   "id": "d3109921",
   "metadata": {},
   "outputs": [
    {
     "data": {
      "text/plain": [
       "6678"
      ]
     },
     "execution_count": 41,
     "metadata": {},
     "output_type": "execute_result"
    }
   ],
   "source": [
    "abs(u)"
   ]
  },
  {
   "cell_type": "code",
   "execution_count": 43,
   "id": "72345604",
   "metadata": {},
   "outputs": [
    {
     "data": {
      "text/plain": [
       "False"
      ]
     },
     "execution_count": 43,
     "metadata": {},
     "output_type": "execute_result"
    }
   ],
   "source": [
    "all([1,2,3,4,0,76])"
   ]
  },
  {
   "cell_type": "code",
   "execution_count": 45,
   "id": "53f9a486",
   "metadata": {},
   "outputs": [
    {
     "data": {
      "text/plain": [
       "False"
      ]
     },
     "execution_count": 45,
     "metadata": {},
     "output_type": "execute_result"
    }
   ],
   "source": [
    "any([0,0,False,None,''])"
   ]
  },
  {
   "cell_type": "code",
   "execution_count": 46,
   "id": "7cf1cb1f",
   "metadata": {},
   "outputs": [
    {
     "data": {
      "text/plain": [
       "'A'"
      ]
     },
     "execution_count": 46,
     "metadata": {},
     "output_type": "execute_result"
    }
   ],
   "source": [
    "chr(65)"
   ]
  },
  {
   "cell_type": "code",
   "execution_count": 47,
   "id": "80aff9e2",
   "metadata": {},
   "outputs": [
    {
     "data": {
      "text/plain": [
       "'B'"
      ]
     },
     "execution_count": 47,
     "metadata": {},
     "output_type": "execute_result"
    }
   ],
   "source": [
    "chr(66)"
   ]
  },
  {
   "cell_type": "code",
   "execution_count": 48,
   "id": "1cbd7472",
   "metadata": {},
   "outputs": [
    {
     "data": {
      "text/plain": [
       "'a'"
      ]
     },
     "execution_count": 48,
     "metadata": {},
     "output_type": "execute_result"
    }
   ],
   "source": [
    "chr(97)"
   ]
  },
  {
   "cell_type": "code",
   "execution_count": 49,
   "id": "66f964aa",
   "metadata": {},
   "outputs": [
    {
     "data": {
      "text/plain": [
       "98"
      ]
     },
     "execution_count": 49,
     "metadata": {},
     "output_type": "execute_result"
    }
   ],
   "source": [
    "ord('b')"
   ]
  },
  {
   "cell_type": "code",
   "execution_count": 50,
   "id": "ac5c3909",
   "metadata": {},
   "outputs": [],
   "source": [
    "l=[1,2,3,4,5,7,8]\n",
    "l1=[10,11,12,14,17,18,20]"
   ]
  },
  {
   "cell_type": "code",
   "execution_count": 52,
   "id": "f0e9bb04",
   "metadata": {},
   "outputs": [
    {
     "name": "stdout",
     "output_type": "stream",
     "text": [
      "10\n",
      "22\n",
      "36\n",
      "56\n",
      "85\n",
      "126\n",
      "160\n"
     ]
    }
   ],
   "source": [
    "for i,j in zip(l,l1):\n",
    "    print(i*j)"
   ]
  },
  {
   "cell_type": "code",
   "execution_count": 68,
   "id": "aee2e9f8",
   "metadata": {},
   "outputs": [],
   "source": [
    "# rock paper scissor game\n",
    "l=[]"
   ]
  },
  {
   "cell_type": "code",
   "execution_count": 82,
   "id": "83cab5d6",
   "metadata": {},
   "outputs": [
    {
     "data": {
      "text/plain": [
       "49"
      ]
     },
     "execution_count": 82,
     "metadata": {},
     "output_type": "execute_result"
    }
   ],
   "source": [
    "\n",
    "random.randint(10,50)\n"
   ]
  },
  {
   "cell_type": "code",
   "execution_count": 90,
   "id": "21ac1918",
   "metadata": {},
   "outputs": [],
   "source": [
    "#(com,user)\n",
    "def rps():\n",
    "    import random\n",
    "    import time\n",
    "    c=0\n",
    "    user_w=0\n",
    "    tie=0\n",
    "    com_w=0\n",
    "    while c<3:\n",
    "        user_win=(('r','p'),('p','s'),('s','r'))\n",
    "        user=input('Enter your choice: r, p, s:  ').lower()\n",
    "        com=random.choice(['r','p','s'])\n",
    "        res=(com,user)\n",
    "        print()\n",
    "        print('user choice: ',user)\n",
    "        print('computer choice: ',com)\n",
    "        print()\n",
    "        print('..')\n",
    "        time.sleep(1)\n",
    "        print('..')\n",
    "        time.sleep(1)\n",
    "        print()\n",
    "        if res in user_win:\n",
    "            print('user win......')\n",
    "            user_w+=1\n",
    "        elif com==user:\n",
    "            print('match tie...')\n",
    "            tie+=1\n",
    "        else:\n",
    "            print('computer win.....')\n",
    "            com_w+=1\n",
    "        c+=1\n",
    "        print(f'Dashboard: user : {user_w} | tie:  {tie} | computer: {com_w}'.center(90))"
   ]
  },
  {
   "cell_type": "code",
   "execution_count": 91,
   "id": "b66cabeb",
   "metadata": {},
   "outputs": [
    {
     "name": "stdout",
     "output_type": "stream",
     "text": [
      "Enter your choice: r, p, s:  r\n",
      "\n",
      "user choice:  r\n",
      "computer choice:  r\n",
      "\n",
      "..\n",
      "..\n",
      "\n",
      "match tie...\n",
      "                       Dashboard: user : 0 | tie:  1 | computer: 0                        \n",
      "Enter your choice: r, p, s:  r\n",
      "\n",
      "user choice:  r\n",
      "computer choice:  p\n",
      "\n",
      "..\n",
      "..\n",
      "\n",
      "computer win.....\n",
      "                       Dashboard: user : 0 | tie:  1 | computer: 1                        \n",
      "Enter your choice: r, p, s:  r\n",
      "\n",
      "user choice:  r\n",
      "computer choice:  r\n",
      "\n",
      "..\n",
      "..\n",
      "\n",
      "match tie...\n",
      "                       Dashboard: user : 0 | tie:  2 | computer: 1                        \n"
     ]
    }
   ],
   "source": [
    "rps()"
   ]
  },
  {
   "cell_type": "code",
   "execution_count": 93,
   "id": "524b539d",
   "metadata": {},
   "outputs": [],
   "source": [
    "# Bank Application\n",
    "# Login\n",
    "# signup\n",
    "# credit, debit , check_bal , reset_pass, forget_pass"
   ]
  },
  {
   "cell_type": "code",
   "execution_count": 95,
   "id": "2a6d864c",
   "metadata": {},
   "outputs": [],
   "source": [
    "# how to genrate otp:\n",
    "\n",
    "\n",
    "\n",
    "\n",
    "def otp():\n",
    "    OTP=''\n",
    "    p='0123456789'\n",
    "    for i in range(4):\n",
    "        OTP=OTP+random.choice(p)\n",
    "    return OTP"
   ]
  },
  {
   "cell_type": "code",
   "execution_count": 101,
   "id": "79c719f5",
   "metadata": {},
   "outputs": [
    {
     "data": {
      "text/plain": [
       "'3471'"
      ]
     },
     "execution_count": 101,
     "metadata": {},
     "output_type": "execute_result"
    }
   ],
   "source": [
    "otp()"
   ]
  },
  {
   "cell_type": "code",
   "execution_count": null,
   "id": "f35cf397",
   "metadata": {},
   "outputs": [],
   "source": [
    "  "
   ]
  }
 ],
 "metadata": {
  "kernelspec": {
   "display_name": "Python 3 (ipykernel)",
   "language": "python",
   "name": "python3"
  },
  "language_info": {
   "codemirror_mode": {
    "name": "ipython",
    "version": 3
   },
   "file_extension": ".py",
   "mimetype": "text/x-python",
   "name": "python",
   "nbconvert_exporter": "python",
   "pygments_lexer": "ipython3",
   "version": "3.9.6"
  }
 },
 "nbformat": 4,
 "nbformat_minor": 5
}
