{
 "cells": [
  {
   "cell_type": "markdown",
   "id": "04477bbe",
   "metadata": {},
   "source": [
    "# List and Tuple"
   ]
  },
  {
   "cell_type": "code",
   "execution_count": 1,
   "id": "a3122487",
   "metadata": {},
   "outputs": [],
   "source": [
    "l=['manish',23,'mathura','M.S' ,67.7]"
   ]
  },
  {
   "cell_type": "code",
   "execution_count": 2,
   "id": "c47eaf40",
   "metadata": {},
   "outputs": [
    {
     "data": {
      "text/plain": [
       "list"
      ]
     },
     "execution_count": 2,
     "metadata": {},
     "output_type": "execute_result"
    }
   ],
   "source": [
    "type(l)"
   ]
  },
  {
   "cell_type": "code",
   "execution_count": 3,
   "id": "d6049eba",
   "metadata": {},
   "outputs": [],
   "source": [
    "t=('manish',23,'mathura','M.S' ,67.7)"
   ]
  },
  {
   "cell_type": "code",
   "execution_count": 4,
   "id": "956afd58",
   "metadata": {},
   "outputs": [
    {
     "data": {
      "text/plain": [
       "tuple"
      ]
     },
     "execution_count": 4,
     "metadata": {},
     "output_type": "execute_result"
    }
   ],
   "source": [
    "type(t)"
   ]
  },
  {
   "cell_type": "code",
   "execution_count": 5,
   "id": "cb291165",
   "metadata": {},
   "outputs": [
    {
     "data": {
      "text/plain": [
       "['manish', 23, 'mathura', 'M.S', 67.7]"
      ]
     },
     "execution_count": 5,
     "metadata": {},
     "output_type": "execute_result"
    }
   ],
   "source": [
    "l"
   ]
  },
  {
   "cell_type": "code",
   "execution_count": 6,
   "id": "96d88e8a",
   "metadata": {},
   "outputs": [
    {
     "data": {
      "text/plain": [
       "('manish', 23, 'mathura', 'M.S', 67.7)"
      ]
     },
     "execution_count": 6,
     "metadata": {},
     "output_type": "execute_result"
    }
   ],
   "source": [
    "t"
   ]
  },
  {
   "cell_type": "code",
   "execution_count": 7,
   "id": "8c4567b5",
   "metadata": {},
   "outputs": [
    {
     "data": {
      "text/plain": [
       "104"
      ]
     },
     "execution_count": 7,
     "metadata": {},
     "output_type": "execute_result"
    }
   ],
   "source": [
    "l.__sizeof__()"
   ]
  },
  {
   "cell_type": "code",
   "execution_count": 8,
   "id": "b856328b",
   "metadata": {},
   "outputs": [
    {
     "data": {
      "text/plain": [
       "64"
      ]
     },
     "execution_count": 8,
     "metadata": {},
     "output_type": "execute_result"
    }
   ],
   "source": [
    "t.__sizeof__()"
   ]
  },
  {
   "cell_type": "code",
   "execution_count": 9,
   "id": "2cc424f6",
   "metadata": {},
   "outputs": [
    {
     "data": {
      "text/plain": [
       "['manish', 23, 'mathura', 'M.S', 67.7]"
      ]
     },
     "execution_count": 9,
     "metadata": {},
     "output_type": "execute_result"
    }
   ],
   "source": [
    "l"
   ]
  },
  {
   "cell_type": "code",
   "execution_count": 10,
   "id": "e7c541f2",
   "metadata": {},
   "outputs": [],
   "source": [
    "l.append('jaipur')"
   ]
  },
  {
   "cell_type": "code",
   "execution_count": 11,
   "id": "e9298497",
   "metadata": {},
   "outputs": [
    {
     "data": {
      "text/plain": [
       "['manish', 23, 'mathura', 'M.S', 67.7, 'jaipur']"
      ]
     },
     "execution_count": 11,
     "metadata": {},
     "output_type": "execute_result"
    }
   ],
   "source": [
    "l"
   ]
  },
  {
   "cell_type": "code",
   "execution_count": 12,
   "id": "1eba8654",
   "metadata": {},
   "outputs": [
    {
     "data": {
      "text/plain": [
       "2102283608192"
      ]
     },
     "execution_count": 12,
     "metadata": {},
     "output_type": "execute_result"
    }
   ],
   "source": [
    "id(l)"
   ]
  },
  {
   "cell_type": "code",
   "execution_count": 13,
   "id": "3dad2f00",
   "metadata": {},
   "outputs": [
    {
     "data": {
      "text/plain": [
       "'jaipur'"
      ]
     },
     "execution_count": 13,
     "metadata": {},
     "output_type": "execute_result"
    }
   ],
   "source": [
    "l.pop()"
   ]
  },
  {
   "cell_type": "code",
   "execution_count": 14,
   "id": "e11f9a0a",
   "metadata": {},
   "outputs": [
    {
     "data": {
      "text/plain": [
       "['manish', 23, 'mathura', 'M.S', 67.7]"
      ]
     },
     "execution_count": 14,
     "metadata": {},
     "output_type": "execute_result"
    }
   ],
   "source": [
    "l"
   ]
  },
  {
   "cell_type": "code",
   "execution_count": 15,
   "id": "a5b25e23",
   "metadata": {},
   "outputs": [
    {
     "data": {
      "text/plain": [
       "67.7"
      ]
     },
     "execution_count": 15,
     "metadata": {},
     "output_type": "execute_result"
    }
   ],
   "source": [
    "l.pop()"
   ]
  },
  {
   "cell_type": "code",
   "execution_count": 16,
   "id": "11f42570",
   "metadata": {},
   "outputs": [
    {
     "data": {
      "text/plain": [
       "['manish', 23, 'mathura', 'M.S']"
      ]
     },
     "execution_count": 16,
     "metadata": {},
     "output_type": "execute_result"
    }
   ],
   "source": [
    "l"
   ]
  },
  {
   "cell_type": "code",
   "execution_count": 17,
   "id": "68bf5a70",
   "metadata": {},
   "outputs": [
    {
     "data": {
      "text/plain": [
       "2102283608192"
      ]
     },
     "execution_count": 17,
     "metadata": {},
     "output_type": "execute_result"
    }
   ],
   "source": [
    "id(l)"
   ]
  },
  {
   "cell_type": "code",
   "execution_count": 18,
   "id": "8eb97e01",
   "metadata": {},
   "outputs": [],
   "source": [
    "s='hello manish'"
   ]
  },
  {
   "cell_type": "code",
   "execution_count": 21,
   "id": "0544123f",
   "metadata": {},
   "outputs": [],
   "source": [
    "s1=s.upper()"
   ]
  },
  {
   "cell_type": "code",
   "execution_count": 20,
   "id": "5037232d",
   "metadata": {},
   "outputs": [
    {
     "data": {
      "text/plain": [
       "'hello manish'"
      ]
     },
     "execution_count": 20,
     "metadata": {},
     "output_type": "execute_result"
    }
   ],
   "source": [
    "s"
   ]
  },
  {
   "cell_type": "code",
   "execution_count": 22,
   "id": "088091f0",
   "metadata": {},
   "outputs": [
    {
     "data": {
      "text/plain": [
       "2102284483568"
      ]
     },
     "execution_count": 22,
     "metadata": {},
     "output_type": "execute_result"
    }
   ],
   "source": [
    "id(s)"
   ]
  },
  {
   "cell_type": "code",
   "execution_count": 23,
   "id": "ec6b8c88",
   "metadata": {},
   "outputs": [
    {
     "data": {
      "text/plain": [
       "2102284481840"
      ]
     },
     "execution_count": 23,
     "metadata": {},
     "output_type": "execute_result"
    }
   ],
   "source": [
    "id(s1)"
   ]
  },
  {
   "cell_type": "code",
   "execution_count": 24,
   "id": "599254d9",
   "metadata": {},
   "outputs": [
    {
     "data": {
      "text/plain": [
       "['manish', 23, 'mathura', 'M.S']"
      ]
     },
     "execution_count": 24,
     "metadata": {},
     "output_type": "execute_result"
    }
   ],
   "source": [
    "l"
   ]
  },
  {
   "cell_type": "code",
   "execution_count": 25,
   "id": "db8cf615",
   "metadata": {},
   "outputs": [
    {
     "data": {
      "text/plain": [
       "('manish', 23, 'mathura', 'M.S', 67.7)"
      ]
     },
     "execution_count": 25,
     "metadata": {},
     "output_type": "execute_result"
    }
   ],
   "source": [
    "t"
   ]
  },
  {
   "cell_type": "code",
   "execution_count": 26,
   "id": "54ff37dc",
   "metadata": {},
   "outputs": [
    {
     "name": "stdout",
     "output_type": "stream",
     "text": [
      "['__add__', '__class__', '__class_getitem__', '__contains__', '__delattr__', '__delitem__', '__dir__', '__doc__', '__eq__', '__format__', '__ge__', '__getattribute__', '__getitem__', '__gt__', '__hash__', '__iadd__', '__imul__', '__init__', '__init_subclass__', '__iter__', '__le__', '__len__', '__lt__', '__mul__', '__ne__', '__new__', '__reduce__', '__reduce_ex__', '__repr__', '__reversed__', '__rmul__', '__setattr__', '__setitem__', '__sizeof__', '__str__', '__subclasshook__', 'append', 'clear', 'copy', 'count', 'extend', 'index', 'insert', 'pop', 'remove', 'reverse', 'sort']\n"
     ]
    }
   ],
   "source": [
    "print(dir(list))"
   ]
  },
  {
   "cell_type": "code",
   "execution_count": 27,
   "id": "2537362c",
   "metadata": {},
   "outputs": [],
   "source": [
    "# for add element in list \n",
    "#1. append---> end of the list \n",
    "#2. insert--->locationwise\n",
    "#3. extend--->multi elements"
   ]
  },
  {
   "cell_type": "code",
   "execution_count": 28,
   "id": "fce05634",
   "metadata": {},
   "outputs": [
    {
     "data": {
      "text/plain": [
       "['manish', 23, 'mathura', 'M.S']"
      ]
     },
     "execution_count": 28,
     "metadata": {},
     "output_type": "execute_result"
    }
   ],
   "source": [
    "l"
   ]
  },
  {
   "cell_type": "code",
   "execution_count": 29,
   "id": "af30167c",
   "metadata": {},
   "outputs": [],
   "source": [
    "l.append('jaiput')"
   ]
  },
  {
   "cell_type": "code",
   "execution_count": 30,
   "id": "c4fc8435",
   "metadata": {},
   "outputs": [
    {
     "data": {
      "text/plain": [
       "['manish', 23, 'mathura', 'M.S', 'jaiput']"
      ]
     },
     "execution_count": 30,
     "metadata": {},
     "output_type": "execute_result"
    }
   ],
   "source": [
    "l"
   ]
  },
  {
   "cell_type": "code",
   "execution_count": 32,
   "id": "28c5900a",
   "metadata": {},
   "outputs": [],
   "source": [
    "l.append('mathura')"
   ]
  },
  {
   "cell_type": "code",
   "execution_count": 33,
   "id": "42d8f967",
   "metadata": {},
   "outputs": [
    {
     "data": {
      "text/plain": [
       "['manish', 23, 'mathura', 'M.S', 'jaiput', 'mathura']"
      ]
     },
     "execution_count": 33,
     "metadata": {},
     "output_type": "execute_result"
    }
   ],
   "source": [
    "l"
   ]
  },
  {
   "cell_type": "code",
   "execution_count": 34,
   "id": "429d0847",
   "metadata": {},
   "outputs": [],
   "source": [
    "l.insert(1,'delhi')# insert(index, element)"
   ]
  },
  {
   "cell_type": "code",
   "execution_count": 35,
   "id": "c13b5a5d",
   "metadata": {},
   "outputs": [
    {
     "data": {
      "text/plain": [
       "['manish', 'delhi', 23, 'mathura', 'M.S', 'jaiput', 'mathura']"
      ]
     },
     "execution_count": 35,
     "metadata": {},
     "output_type": "execute_result"
    }
   ],
   "source": [
    "l"
   ]
  },
  {
   "cell_type": "code",
   "execution_count": 36,
   "id": "05c53f9a",
   "metadata": {},
   "outputs": [],
   "source": [
    "l.insert(4,'Agra')"
   ]
  },
  {
   "cell_type": "code",
   "execution_count": 37,
   "id": "b1e2e223",
   "metadata": {},
   "outputs": [
    {
     "name": "stdout",
     "output_type": "stream",
     "text": [
      "['manish', 'delhi', 23, 'mathura', 'Agra', 'M.S', 'jaiput', 'mathura']\n"
     ]
    }
   ],
   "source": [
    "print(l)"
   ]
  },
  {
   "cell_type": "code",
   "execution_count": 38,
   "id": "3d068ea0",
   "metadata": {},
   "outputs": [],
   "source": [
    "l.extend(['shan','jeet','neha','rahul','sachin'])"
   ]
  },
  {
   "cell_type": "code",
   "execution_count": 39,
   "id": "d7612706",
   "metadata": {},
   "outputs": [
    {
     "name": "stdout",
     "output_type": "stream",
     "text": [
      "['manish', 'delhi', 23, 'mathura', 'Agra', 'M.S', 'jaiput', 'mathura', 'shan', 'jeet', 'neha', 'rahul', 'sachin']\n"
     ]
    }
   ],
   "source": [
    "print(l)"
   ]
  },
  {
   "cell_type": "code",
   "execution_count": 40,
   "id": "701627ea",
   "metadata": {},
   "outputs": [],
   "source": [
    "l.append(['shan','jeet','neha','rahul','simran','ravi'])"
   ]
  },
  {
   "cell_type": "code",
   "execution_count": 41,
   "id": "b7e76b1d",
   "metadata": {},
   "outputs": [
    {
     "name": "stdout",
     "output_type": "stream",
     "text": [
      "['manish', 'delhi', 23, 'mathura', 'Agra', 'M.S', 'jaiput', 'mathura', 'shan', 'jeet', 'neha', 'rahul', 'sachin', ['shan', 'jeet', 'neha', 'rahul', 'simran', 'ravi']]\n"
     ]
    }
   ],
   "source": [
    "print(l)"
   ]
  },
  {
   "cell_type": "code",
   "execution_count": 42,
   "id": "4f41e3cf",
   "metadata": {},
   "outputs": [
    {
     "data": {
      "text/plain": [
       "['shan', 'jeet', 'neha', 'rahul', 'simran', 'ravi']"
      ]
     },
     "execution_count": 42,
     "metadata": {},
     "output_type": "execute_result"
    }
   ],
   "source": [
    "l[-1]"
   ]
  },
  {
   "cell_type": "code",
   "execution_count": 44,
   "id": "51466e8e",
   "metadata": {},
   "outputs": [
    {
     "data": {
      "text/plain": [
       "'sachin'"
      ]
     },
     "execution_count": 44,
     "metadata": {},
     "output_type": "execute_result"
    }
   ],
   "source": [
    "l[-2]"
   ]
  },
  {
   "cell_type": "code",
   "execution_count": 45,
   "id": "da488418",
   "metadata": {},
   "outputs": [
    {
     "data": {
      "text/plain": [
       "'rahul'"
      ]
     },
     "execution_count": 45,
     "metadata": {},
     "output_type": "execute_result"
    }
   ],
   "source": [
    "l[-3]"
   ]
  },
  {
   "cell_type": "code",
   "execution_count": 47,
   "id": "461c8da9",
   "metadata": {},
   "outputs": [
    {
     "name": "stdout",
     "output_type": "stream",
     "text": [
      "['manish', 'delhi', 23, 'mathura', 'Agra', 'M.S', 'jaiput', 'mathura', 'shan', 'jeet', 'neha', 'rahul', 'sachin', ['shan', 'jeet', 'neha', 'rahul', 'simran', 'ravi']]\n"
     ]
    }
   ],
   "source": [
    "print(l)"
   ]
  },
  {
   "cell_type": "code",
   "execution_count": 48,
   "id": "b43d0e6d",
   "metadata": {},
   "outputs": [
    {
     "data": {
      "text/plain": [
       "'neha'"
      ]
     },
     "execution_count": 48,
     "metadata": {},
     "output_type": "execute_result"
    }
   ],
   "source": [
    "l[-4]"
   ]
  },
  {
   "cell_type": "code",
   "execution_count": 51,
   "id": "b0722acf",
   "metadata": {},
   "outputs": [
    {
     "data": {
      "text/plain": [
       "'m'"
      ]
     },
     "execution_count": 51,
     "metadata": {},
     "output_type": "execute_result"
    }
   ],
   "source": [
    "l[-1][-2][2]"
   ]
  },
  {
   "cell_type": "code",
   "execution_count": 52,
   "id": "7fbc1ff1",
   "metadata": {},
   "outputs": [
    {
     "name": "stdout",
     "output_type": "stream",
     "text": [
      "['manish', 'delhi', 23, 'mathura', 'Agra', 'M.S', 'jaiput', 'mathura', 'shan', 'jeet', 'neha', 'rahul', 'sachin', ['shan', 'jeet', 'neha', 'rahul', 'simran', 'ravi']]\n"
     ]
    }
   ],
   "source": [
    "print(l)"
   ]
  },
  {
   "cell_type": "code",
   "execution_count": 53,
   "id": "90bd4702",
   "metadata": {},
   "outputs": [],
   "source": [
    "# for remove in list\n",
    "# 1. pop\n",
    "# 2. remove\n",
    "# 3. del"
   ]
  },
  {
   "cell_type": "code",
   "execution_count": 54,
   "id": "2df6e897",
   "metadata": {},
   "outputs": [
    {
     "data": {
      "text/plain": [
       "['shan', 'jeet', 'neha', 'rahul', 'simran', 'ravi']"
      ]
     },
     "execution_count": 54,
     "metadata": {},
     "output_type": "execute_result"
    }
   ],
   "source": [
    "l.pop()"
   ]
  },
  {
   "cell_type": "code",
   "execution_count": 55,
   "id": "1c5537da",
   "metadata": {},
   "outputs": [
    {
     "name": "stdout",
     "output_type": "stream",
     "text": [
      "['manish', 'delhi', 23, 'mathura', 'Agra', 'M.S', 'jaiput', 'mathura', 'shan', 'jeet', 'neha', 'rahul', 'sachin']\n"
     ]
    }
   ],
   "source": [
    "print(l)"
   ]
  },
  {
   "cell_type": "code",
   "execution_count": 56,
   "id": "c64feff2",
   "metadata": {},
   "outputs": [
    {
     "data": {
      "text/plain": [
       "'sachin'"
      ]
     },
     "execution_count": 56,
     "metadata": {},
     "output_type": "execute_result"
    }
   ],
   "source": [
    "l.pop()"
   ]
  },
  {
   "cell_type": "code",
   "execution_count": 57,
   "id": "c99188c0",
   "metadata": {},
   "outputs": [
    {
     "name": "stdout",
     "output_type": "stream",
     "text": [
      "['manish', 'delhi', 23, 'mathura', 'Agra', 'M.S', 'jaiput', 'mathura', 'shan', 'jeet', 'neha', 'rahul']\n"
     ]
    }
   ],
   "source": [
    "print(l)"
   ]
  },
  {
   "cell_type": "code",
   "execution_count": 58,
   "id": "f6ab3203",
   "metadata": {},
   "outputs": [
    {
     "data": {
      "text/plain": [
       "'Agra'"
      ]
     },
     "execution_count": 58,
     "metadata": {},
     "output_type": "execute_result"
    }
   ],
   "source": [
    "l.pop(4)"
   ]
  },
  {
   "cell_type": "code",
   "execution_count": 59,
   "id": "1c001f56",
   "metadata": {},
   "outputs": [
    {
     "name": "stdout",
     "output_type": "stream",
     "text": [
      "['manish', 'delhi', 23, 'mathura', 'M.S', 'jaiput', 'mathura', 'shan', 'jeet', 'neha', 'rahul']\n"
     ]
    }
   ],
   "source": [
    "print(l)"
   ]
  },
  {
   "cell_type": "code",
   "execution_count": 60,
   "id": "3a21687e",
   "metadata": {},
   "outputs": [],
   "source": [
    "l.remove('M.S')"
   ]
  },
  {
   "cell_type": "code",
   "execution_count": 61,
   "id": "a4706900",
   "metadata": {},
   "outputs": [
    {
     "name": "stdout",
     "output_type": "stream",
     "text": [
      "['manish', 'delhi', 23, 'mathura', 'jaiput', 'mathura', 'shan', 'jeet', 'neha', 'rahul']\n"
     ]
    }
   ],
   "source": [
    "print(l)"
   ]
  },
  {
   "cell_type": "code",
   "execution_count": 62,
   "id": "3f99887f",
   "metadata": {},
   "outputs": [],
   "source": [
    "del l[1:6]"
   ]
  },
  {
   "cell_type": "code",
   "execution_count": 63,
   "id": "625f6652",
   "metadata": {},
   "outputs": [
    {
     "name": "stdout",
     "output_type": "stream",
     "text": [
      "['manish', 'shan', 'jeet', 'neha', 'rahul']\n"
     ]
    }
   ],
   "source": [
    "print(l)"
   ]
  },
  {
   "cell_type": "code",
   "execution_count": 64,
   "id": "e649a14e",
   "metadata": {},
   "outputs": [],
   "source": [
    "#l.sort()--->asc\n",
    "# l.sort(reverse=True) -->desc"
   ]
  },
  {
   "cell_type": "code",
   "execution_count": 66,
   "id": "d6f089be",
   "metadata": {},
   "outputs": [],
   "source": [
    "l.sort(reverse=True)"
   ]
  },
  {
   "cell_type": "code",
   "execution_count": 67,
   "id": "458a94f7",
   "metadata": {},
   "outputs": [
    {
     "data": {
      "text/plain": [
       "['shan', 'rahul', 'neha', 'manish', 'jeet']"
      ]
     },
     "execution_count": 67,
     "metadata": {},
     "output_type": "execute_result"
    }
   ],
   "source": [
    "l"
   ]
  },
  {
   "cell_type": "code",
   "execution_count": 68,
   "id": "31fe33f2",
   "metadata": {},
   "outputs": [],
   "source": [
    "l.sort()"
   ]
  },
  {
   "cell_type": "code",
   "execution_count": 69,
   "id": "cb1522fb",
   "metadata": {},
   "outputs": [
    {
     "data": {
      "text/plain": [
       "['jeet', 'manish', 'neha', 'rahul', 'shan']"
      ]
     },
     "execution_count": 69,
     "metadata": {},
     "output_type": "execute_result"
    }
   ],
   "source": [
    "l"
   ]
  },
  {
   "cell_type": "code",
   "execution_count": 70,
   "id": "45979837",
   "metadata": {},
   "outputs": [],
   "source": [
    "l.append(23)"
   ]
  },
  {
   "cell_type": "code",
   "execution_count": 71,
   "id": "54a5c1be",
   "metadata": {},
   "outputs": [
    {
     "data": {
      "text/plain": [
       "['jeet', 'manish', 'neha', 'rahul', 'shan', 23]"
      ]
     },
     "execution_count": 71,
     "metadata": {},
     "output_type": "execute_result"
    }
   ],
   "source": [
    "l"
   ]
  },
  {
   "cell_type": "code",
   "execution_count": 72,
   "id": "b3d10df0",
   "metadata": {},
   "outputs": [
    {
     "ename": "TypeError",
     "evalue": "'<' not supported between instances of 'int' and 'str'",
     "output_type": "error",
     "traceback": [
      "\u001b[1;31m---------------------------------------------------------------------------\u001b[0m",
      "\u001b[1;31mTypeError\u001b[0m                                 Traceback (most recent call last)",
      "\u001b[1;32m~\\AppData\\Local\\Temp/ipykernel_7056/4149526160.py\u001b[0m in \u001b[0;36m<module>\u001b[1;34m\u001b[0m\n\u001b[1;32m----> 1\u001b[1;33m \u001b[0ml\u001b[0m\u001b[1;33m.\u001b[0m\u001b[0msort\u001b[0m\u001b[1;33m(\u001b[0m\u001b[1;33m)\u001b[0m\u001b[1;33m\u001b[0m\u001b[1;33m\u001b[0m\u001b[0m\n\u001b[0m",
      "\u001b[1;31mTypeError\u001b[0m: '<' not supported between instances of 'int' and 'str'"
     ]
    }
   ],
   "source": [
    "l.sort()"
   ]
  },
  {
   "cell_type": "code",
   "execution_count": null,
   "id": "098d347e",
   "metadata": {},
   "outputs": [],
   "source": []
  },
  {
   "cell_type": "code",
   "execution_count": 73,
   "id": "0152b90e",
   "metadata": {},
   "outputs": [
    {
     "data": {
      "text/plain": [
       "['jeet', 'manish', 'neha', 'rahul', 'shan', 23]"
      ]
     },
     "execution_count": 73,
     "metadata": {},
     "output_type": "execute_result"
    }
   ],
   "source": [
    "l"
   ]
  },
  {
   "cell_type": "code",
   "execution_count": 74,
   "id": "075ea042",
   "metadata": {},
   "outputs": [],
   "source": [
    "l.reverse()"
   ]
  },
  {
   "cell_type": "code",
   "execution_count": 75,
   "id": "0a346b61",
   "metadata": {},
   "outputs": [
    {
     "data": {
      "text/plain": [
       "[23, 'shan', 'rahul', 'neha', 'manish', 'jeet']"
      ]
     },
     "execution_count": 75,
     "metadata": {},
     "output_type": "execute_result"
    }
   ],
   "source": [
    "l"
   ]
  },
  {
   "cell_type": "code",
   "execution_count": 76,
   "id": "6c3e7f8b",
   "metadata": {},
   "outputs": [
    {
     "data": {
      "text/plain": [
       "['jeet', 'manish', 'neha', 'rahul', 'shan', 23]"
      ]
     },
     "execution_count": 76,
     "metadata": {},
     "output_type": "execute_result"
    }
   ],
   "source": [
    "l[::-1]"
   ]
  },
  {
   "cell_type": "code",
   "execution_count": 77,
   "id": "996ffe3f",
   "metadata": {},
   "outputs": [
    {
     "data": {
      "text/plain": [
       "[23, 'shan', 'rahul', 'neha', 'manish', 'jeet']"
      ]
     },
     "execution_count": 77,
     "metadata": {},
     "output_type": "execute_result"
    }
   ],
   "source": [
    "l"
   ]
  },
  {
   "cell_type": "code",
   "execution_count": 78,
   "id": "65802d56",
   "metadata": {},
   "outputs": [],
   "source": [
    "l1=l\n",
    "l2=l.copy()"
   ]
  },
  {
   "cell_type": "code",
   "execution_count": 79,
   "id": "430b6b27",
   "metadata": {},
   "outputs": [
    {
     "data": {
      "text/plain": [
       "[23, 'shan', 'rahul', 'neha', 'manish', 'jeet']"
      ]
     },
     "execution_count": 79,
     "metadata": {},
     "output_type": "execute_result"
    }
   ],
   "source": [
    "l"
   ]
  },
  {
   "cell_type": "code",
   "execution_count": 80,
   "id": "286ec9c3",
   "metadata": {},
   "outputs": [
    {
     "data": {
      "text/plain": [
       "[23, 'shan', 'rahul', 'neha', 'manish', 'jeet']"
      ]
     },
     "execution_count": 80,
     "metadata": {},
     "output_type": "execute_result"
    }
   ],
   "source": [
    "l1"
   ]
  },
  {
   "cell_type": "code",
   "execution_count": 81,
   "id": "22201426",
   "metadata": {},
   "outputs": [
    {
     "data": {
      "text/plain": [
       "[23, 'shan', 'rahul', 'neha', 'manish', 'jeet']"
      ]
     },
     "execution_count": 81,
     "metadata": {},
     "output_type": "execute_result"
    }
   ],
   "source": [
    "l2"
   ]
  },
  {
   "cell_type": "code",
   "execution_count": 82,
   "id": "b3f73762",
   "metadata": {},
   "outputs": [
    {
     "data": {
      "text/plain": [
       "'jeet'"
      ]
     },
     "execution_count": 82,
     "metadata": {},
     "output_type": "execute_result"
    }
   ],
   "source": [
    "l.pop()"
   ]
  },
  {
   "cell_type": "code",
   "execution_count": 83,
   "id": "31ded60f",
   "metadata": {},
   "outputs": [
    {
     "data": {
      "text/plain": [
       "[23, 'shan', 'rahul', 'neha', 'manish']"
      ]
     },
     "execution_count": 83,
     "metadata": {},
     "output_type": "execute_result"
    }
   ],
   "source": [
    "l"
   ]
  },
  {
   "cell_type": "code",
   "execution_count": 84,
   "id": "02e4cd87",
   "metadata": {},
   "outputs": [
    {
     "data": {
      "text/plain": [
       "[23, 'shan', 'rahul', 'neha', 'manish', 'jeet']"
      ]
     },
     "execution_count": 84,
     "metadata": {},
     "output_type": "execute_result"
    }
   ],
   "source": [
    "l2"
   ]
  },
  {
   "cell_type": "code",
   "execution_count": 85,
   "id": "00d9b2eb",
   "metadata": {},
   "outputs": [
    {
     "data": {
      "text/plain": [
       "[23, 'shan', 'rahul', 'neha', 'manish']"
      ]
     },
     "execution_count": 85,
     "metadata": {},
     "output_type": "execute_result"
    }
   ],
   "source": [
    "l1"
   ]
  },
  {
   "cell_type": "code",
   "execution_count": 86,
   "id": "dec36b7f",
   "metadata": {},
   "outputs": [
    {
     "data": {
      "text/plain": [
       "2102283608192"
      ]
     },
     "execution_count": 86,
     "metadata": {},
     "output_type": "execute_result"
    }
   ],
   "source": [
    "id(l)"
   ]
  },
  {
   "cell_type": "code",
   "execution_count": 87,
   "id": "54801e28",
   "metadata": {},
   "outputs": [
    {
     "data": {
      "text/plain": [
       "2102283608192"
      ]
     },
     "execution_count": 87,
     "metadata": {},
     "output_type": "execute_result"
    }
   ],
   "source": [
    "id(l1)"
   ]
  },
  {
   "cell_type": "code",
   "execution_count": 88,
   "id": "d7395804",
   "metadata": {},
   "outputs": [
    {
     "data": {
      "text/plain": [
       "2102285281920"
      ]
     },
     "execution_count": 88,
     "metadata": {},
     "output_type": "execute_result"
    }
   ],
   "source": [
    "id(l2)"
   ]
  },
  {
   "cell_type": "code",
   "execution_count": 89,
   "id": "15cc10f3",
   "metadata": {},
   "outputs": [],
   "source": [
    "l.clear()"
   ]
  },
  {
   "cell_type": "code",
   "execution_count": 90,
   "id": "450e0467",
   "metadata": {},
   "outputs": [
    {
     "data": {
      "text/plain": [
       "[]"
      ]
     },
     "execution_count": 90,
     "metadata": {},
     "output_type": "execute_result"
    }
   ],
   "source": [
    "l"
   ]
  },
  {
   "cell_type": "code",
   "execution_count": 91,
   "id": "769ff154",
   "metadata": {},
   "outputs": [
    {
     "data": {
      "text/plain": [
       "[]"
      ]
     },
     "execution_count": 91,
     "metadata": {},
     "output_type": "execute_result"
    }
   ],
   "source": [
    "l1"
   ]
  },
  {
   "cell_type": "code",
   "execution_count": 92,
   "id": "f93c379e",
   "metadata": {},
   "outputs": [
    {
     "data": {
      "text/plain": [
       "[23, 'shan', 'rahul', 'neha', 'manish', 'jeet']"
      ]
     },
     "execution_count": 92,
     "metadata": {},
     "output_type": "execute_result"
    }
   ],
   "source": [
    "l2"
   ]
  },
  {
   "cell_type": "code",
   "execution_count": 93,
   "id": "a63fea50",
   "metadata": {},
   "outputs": [
    {
     "name": "stdout",
     "output_type": "stream",
     "text": [
      "['__add__', '__class__', '__class_getitem__', '__contains__', '__delattr__', '__delitem__', '__dir__', '__doc__', '__eq__', '__format__', '__ge__', '__getattribute__', '__getitem__', '__gt__', '__hash__', '__iadd__', '__imul__', '__init__', '__init_subclass__', '__iter__', '__le__', '__len__', '__lt__', '__mul__', '__ne__', '__new__', '__reduce__', '__reduce_ex__', '__repr__', '__reversed__', '__rmul__', '__setattr__', '__setitem__', '__sizeof__', '__str__', '__subclasshook__', 'append', 'clear', 'copy', 'count', 'extend', 'index', 'insert', 'pop', 'remove', 'reverse', 'sort']\n"
     ]
    }
   ],
   "source": [
    "print(dir(list))"
   ]
  },
  {
   "cell_type": "code",
   "execution_count": 96,
   "id": "aa25b05d",
   "metadata": {},
   "outputs": [
    {
     "data": {
      "text/plain": [
       "[23, 'shan', 'rahul', 'neha', 'manish', 'jeet']"
      ]
     },
     "execution_count": 96,
     "metadata": {},
     "output_type": "execute_result"
    }
   ],
   "source": [
    "l2"
   ]
  },
  {
   "cell_type": "code",
   "execution_count": 99,
   "id": "30811684",
   "metadata": {},
   "outputs": [],
   "source": [
    "l2.append('rahul')"
   ]
  },
  {
   "cell_type": "code",
   "execution_count": 115,
   "id": "efa4992a",
   "metadata": {},
   "outputs": [
    {
     "data": {
      "text/plain": [
       "[23, 'shan', 'rahul', 'neha', 'manish', 'jeet', 'rahul', 'n', 'n']"
      ]
     },
     "execution_count": 115,
     "metadata": {},
     "output_type": "execute_result"
    }
   ],
   "source": [
    "l2.append('n')\n",
    "l2"
   ]
  },
  {
   "cell_type": "code",
   "execution_count": 101,
   "id": "dade30c3",
   "metadata": {},
   "outputs": [
    {
     "data": {
      "text/plain": [
       "2"
      ]
     },
     "execution_count": 101,
     "metadata": {},
     "output_type": "execute_result"
    }
   ],
   "source": [
    "l2.count('rahul')"
   ]
  },
  {
   "cell_type": "code",
   "execution_count": 116,
   "id": "d27f7b6a",
   "metadata": {},
   "outputs": [
    {
     "data": {
      "text/plain": [
       "2"
      ]
     },
     "execution_count": 116,
     "metadata": {},
     "output_type": "execute_result"
    }
   ],
   "source": [
    "l2.count('n')"
   ]
  },
  {
   "cell_type": "code",
   "execution_count": null,
   "id": "6cf42b74",
   "metadata": {},
   "outputs": [],
   "source": []
  },
  {
   "cell_type": "code",
   "execution_count": 103,
   "id": "d97dee43",
   "metadata": {},
   "outputs": [
    {
     "data": {
      "text/plain": [
       "('manish', 23, 'mathura', 'M.S', 67.7)"
      ]
     },
     "execution_count": 103,
     "metadata": {},
     "output_type": "execute_result"
    }
   ],
   "source": [
    "t"
   ]
  },
  {
   "cell_type": "code",
   "execution_count": 104,
   "id": "a2ab6775",
   "metadata": {},
   "outputs": [
    {
     "name": "stdout",
     "output_type": "stream",
     "text": [
      "['__add__', '__class__', '__class_getitem__', '__contains__', '__delattr__', '__dir__', '__doc__', '__eq__', '__format__', '__ge__', '__getattribute__', '__getitem__', '__getnewargs__', '__gt__', '__hash__', '__init__', '__init_subclass__', '__iter__', '__le__', '__len__', '__lt__', '__mul__', '__ne__', '__new__', '__reduce__', '__reduce_ex__', '__repr__', '__rmul__', '__setattr__', '__sizeof__', '__str__', '__subclasshook__', 'count', 'index']\n"
     ]
    }
   ],
   "source": [
    "print(dir(tuple))"
   ]
  },
  {
   "cell_type": "code",
   "execution_count": 105,
   "id": "ccb94125",
   "metadata": {},
   "outputs": [
    {
     "ename": "AttributeError",
     "evalue": "'tuple' object has no attribute 'append'",
     "output_type": "error",
     "traceback": [
      "\u001b[1;31m---------------------------------------------------------------------------\u001b[0m",
      "\u001b[1;31mAttributeError\u001b[0m                            Traceback (most recent call last)",
      "\u001b[1;32m~\\AppData\\Local\\Temp/ipykernel_7056/1702498049.py\u001b[0m in \u001b[0;36m<module>\u001b[1;34m\u001b[0m\n\u001b[1;32m----> 1\u001b[1;33m \u001b[0mt\u001b[0m\u001b[1;33m.\u001b[0m\u001b[0mappend\u001b[0m\u001b[1;33m(\u001b[0m\u001b[1;34m'jaipur'\u001b[0m\u001b[1;33m)\u001b[0m\u001b[1;33m\u001b[0m\u001b[1;33m\u001b[0m\u001b[0m\n\u001b[0m",
      "\u001b[1;31mAttributeError\u001b[0m: 'tuple' object has no attribute 'append'"
     ]
    }
   ],
   "source": [
    "t.append('jaipur')"
   ]
  },
  {
   "cell_type": "code",
   "execution_count": 106,
   "id": "5fd42bfb",
   "metadata": {},
   "outputs": [
    {
     "data": {
      "text/plain": [
       "('manish', 23, 'mathura', 'M.S', 67.7)"
      ]
     },
     "execution_count": 106,
     "metadata": {},
     "output_type": "execute_result"
    }
   ],
   "source": [
    "t"
   ]
  },
  {
   "cell_type": "code",
   "execution_count": 107,
   "id": "945db371",
   "metadata": {},
   "outputs": [
    {
     "data": {
      "text/plain": [
       "1"
      ]
     },
     "execution_count": 107,
     "metadata": {},
     "output_type": "execute_result"
    }
   ],
   "source": [
    "t.count('manish')"
   ]
  },
  {
   "cell_type": "code",
   "execution_count": 108,
   "id": "755dad16",
   "metadata": {},
   "outputs": [
    {
     "data": {
      "text/plain": [
       "2"
      ]
     },
     "execution_count": 108,
     "metadata": {},
     "output_type": "execute_result"
    }
   ],
   "source": [
    "t.index('mathura')"
   ]
  },
  {
   "cell_type": "code",
   "execution_count": 109,
   "id": "e04f9343",
   "metadata": {},
   "outputs": [
    {
     "data": {
      "text/plain": [
       "'mathura'"
      ]
     },
     "execution_count": 109,
     "metadata": {},
     "output_type": "execute_result"
    }
   ],
   "source": [
    "t[2]"
   ]
  },
  {
   "cell_type": "code",
   "execution_count": 110,
   "id": "76c67272",
   "metadata": {},
   "outputs": [
    {
     "data": {
      "text/plain": [
       "'M.S'"
      ]
     },
     "execution_count": 110,
     "metadata": {},
     "output_type": "execute_result"
    }
   ],
   "source": [
    "t[3]"
   ]
  },
  {
   "cell_type": "code",
   "execution_count": 111,
   "id": "e95e3fa2",
   "metadata": {},
   "outputs": [
    {
     "data": {
      "text/plain": [
       "23"
      ]
     },
     "execution_count": 111,
     "metadata": {},
     "output_type": "execute_result"
    }
   ],
   "source": [
    "t[1]"
   ]
  },
  {
   "cell_type": "code",
   "execution_count": 112,
   "id": "3f38aeeb",
   "metadata": {},
   "outputs": [
    {
     "data": {
      "text/plain": [
       "('manish', 23, 'mathura', 'M.S', 67.7)"
      ]
     },
     "execution_count": 112,
     "metadata": {},
     "output_type": "execute_result"
    }
   ],
   "source": [
    "t"
   ]
  },
  {
   "cell_type": "code",
   "execution_count": 113,
   "id": "17b159ab",
   "metadata": {},
   "outputs": [
    {
     "ename": "AttributeError",
     "evalue": "'tuple' object has no attribute 'clear'",
     "output_type": "error",
     "traceback": [
      "\u001b[1;31m---------------------------------------------------------------------------\u001b[0m",
      "\u001b[1;31mAttributeError\u001b[0m                            Traceback (most recent call last)",
      "\u001b[1;32m~\\AppData\\Local\\Temp/ipykernel_7056/2830933577.py\u001b[0m in \u001b[0;36m<module>\u001b[1;34m\u001b[0m\n\u001b[1;32m----> 1\u001b[1;33m \u001b[0mt\u001b[0m\u001b[1;33m.\u001b[0m\u001b[0mclear\u001b[0m\u001b[1;33m(\u001b[0m\u001b[1;33m)\u001b[0m\u001b[1;33m\u001b[0m\u001b[1;33m\u001b[0m\u001b[0m\n\u001b[0m",
      "\u001b[1;31mAttributeError\u001b[0m: 'tuple' object has no attribute 'clear'"
     ]
    }
   ],
   "source": [
    "t.clear()"
   ]
  },
  {
   "cell_type": "code",
   "execution_count": null,
   "id": "dd89759c",
   "metadata": {},
   "outputs": [],
   "source": []
  }
 ],
 "metadata": {
  "kernelspec": {
   "display_name": "Python 3 (ipykernel)",
   "language": "python",
   "name": "python3"
  },
  "language_info": {
   "codemirror_mode": {
    "name": "ipython",
    "version": 3
   },
   "file_extension": ".py",
   "mimetype": "text/x-python",
   "name": "python",
   "nbconvert_exporter": "python",
   "pygments_lexer": "ipython3",
   "version": "3.9.6"
  }
 },
 "nbformat": 4,
 "nbformat_minor": 5
}
