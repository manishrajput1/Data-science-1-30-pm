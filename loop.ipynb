{
 "cells": [
  {
   "cell_type": "code",
   "execution_count": 2,
   "id": "4aab8220",
   "metadata": {},
   "outputs": [
    {
     "name": "stdout",
     "output_type": "stream",
     "text": [
      "Enter month number: 3\n",
      "30\n"
     ]
    }
   ],
   "source": [
    "d={1:31,2:'28|29',3:30}\n",
    "n=int(input('Enter month number: '))\n",
    "if n<=12:\n",
    "    print(d.get(n))"
   ]
  },
  {
   "cell_type": "code",
   "execution_count": 3,
   "id": "8da86641",
   "metadata": {},
   "outputs": [
    {
     "data": {
      "text/plain": [
       "'0b1010'"
      ]
     },
     "execution_count": 3,
     "metadata": {},
     "output_type": "execute_result"
    }
   ],
   "source": [
    "bin(10)"
   ]
  },
  {
   "cell_type": "code",
   "execution_count": 7,
   "id": "02c8451e",
   "metadata": {},
   "outputs": [
    {
     "name": "stdout",
     "output_type": "stream",
     "text": [
      "Enter n: 67\n",
      "0b1000011\n",
      "zero max\n"
     ]
    }
   ],
   "source": [
    "n=int(input('Enter n: '))\n",
    "b=bin(n) \n",
    "zero=b[2:].count('0')\n",
    "one=b[2:].count('1')\n",
    "if zero>one:\n",
    "    print('zero max')\n",
    "elif zero==one:\n",
    "    print('both are equal')\n",
    "else:\n",
    "    print('one max')\n"
   ]
  },
  {
   "cell_type": "code",
   "execution_count": 10,
   "id": "499180f0",
   "metadata": {},
   "outputs": [
    {
     "name": "stdout",
     "output_type": "stream",
     "text": [
      "Enter a: pat\n",
      "ENter b: apt\n",
      "anagram\n",
      "['a', 'p', 't']\n",
      "['a', 'p', 't']\n"
     ]
    }
   ],
   "source": [
    "a=input('Enter a: ')\n",
    "b=input('ENter b: ')\n",
    "l=list(a)\n",
    "l1=list(b)\n",
    "l.sort()\n",
    "l1.sort()\n",
    "if l==l1:\n",
    "    print('anagram')\n",
    "else:\n",
    "    print('Not')\n"
   ]
  },
  {
   "cell_type": "code",
   "execution_count": 19,
   "id": "9defec71",
   "metadata": {},
   "outputs": [
    {
     "name": "stdout",
     "output_type": "stream",
     "text": [
      "enter somthing: 123\n",
      "Not\n"
     ]
    }
   ],
   "source": [
    "n=input('enter somthing: ')\n",
    "g=n[::-1]\n",
    "if n==g:\n",
    "    print('palindrom')\n",
    "else:\n",
    "    print('Not')"
   ]
  },
  {
   "cell_type": "markdown",
   "id": "e9ba6cde",
   "metadata": {},
   "source": [
    "# looping"
   ]
  },
  {
   "cell_type": "code",
   "execution_count": 20,
   "id": "4df3a11d",
   "metadata": {},
   "outputs": [],
   "source": [
    "#print 1 to 100  dev 5"
   ]
  },
  {
   "cell_type": "code",
   "execution_count": 21,
   "id": "1d858f58",
   "metadata": {},
   "outputs": [
    {
     "name": "stdout",
     "output_type": "stream",
     "text": [
      "5\n",
      "10\n",
      "15\n",
      "20\n",
      "25\n",
      "30\n",
      "35\n",
      "40\n",
      "45\n",
      "50\n",
      "55\n",
      "60\n",
      "65\n",
      "70\n",
      "75\n",
      "80\n",
      "85\n",
      "90\n",
      "95\n",
      "100\n"
     ]
    }
   ],
   "source": [
    "c=1 # initalization\n",
    "\n",
    "while c<=100:\n",
    "    if c%5==0:\n",
    "        print(c)\n",
    "    c+=1"
   ]
  },
  {
   "cell_type": "markdown",
   "id": "9d528dce",
   "metadata": {},
   "source": [
    "# Program to print the sum of digits of any number\n",
    "# "
   ]
  },
  {
   "cell_type": "code",
   "execution_count": 23,
   "id": "5f6b242c",
   "metadata": {},
   "outputs": [
    {
     "name": "stdout",
     "output_type": "stream",
     "text": [
      "Enter n: 1234\n",
      "10\n"
     ]
    }
   ],
   "source": [
    "n=int(input('Enter n: '))\n",
    "c=n\n",
    "s=1\n",
    "while c:\n",
    "    r=c%10\n",
    "    s=s+r\n",
    "    c=c//10\n",
    "print(s)"
   ]
  },
  {
   "cell_type": "markdown",
   "id": "baf24115",
   "metadata": {},
   "source": [
    "# ⦁\tProgram to print product of digits of any number\n"
   ]
  },
  {
   "cell_type": "code",
   "execution_count": 24,
   "id": "511ea920",
   "metadata": {},
   "outputs": [],
   "source": [
    "b='100101'"
   ]
  },
  {
   "cell_type": "code",
   "execution_count": 25,
   "id": "eb1a1f23",
   "metadata": {},
   "outputs": [
    {
     "data": {
      "text/plain": [
       "37"
      ]
     },
     "execution_count": 25,
     "metadata": {},
     "output_type": "execute_result"
    }
   ],
   "source": [
    "int(b,2)"
   ]
  },
  {
   "cell_type": "markdown",
   "id": "cad59653",
   "metadata": {},
   "source": [
    "# ⦁\tFind the sum of this series up to n terms – 1 + 2 + 4 + 7 + 11 + 16 + ……..\n"
   ]
  },
  {
   "cell_type": "code",
   "execution_count": 29,
   "id": "f6db2cd9",
   "metadata": {},
   "outputs": [
    {
     "name": "stdout",
     "output_type": "stream",
     "text": [
      "Enter n: 40\n",
      "2\n",
      "4\n",
      "7\n",
      "11\n",
      "16\n",
      "22\n",
      "29\n",
      "37\n"
     ]
    }
   ],
   "source": [
    "n=int(input('Enter n: '))\n",
    "s=1\n",
    "a=1\n",
    "while s+a<=n:\n",
    "    s=s+a\n",
    "    print(s)\n",
    "    a+=1"
   ]
  },
  {
   "cell_type": "code",
   "execution_count": 34,
   "id": "41151c80",
   "metadata": {},
   "outputs": [
    {
     "name": "stdout",
     "output_type": "stream",
     "text": [
      "enter n:10\n",
      "1\n",
      "2\n",
      "4\n",
      "7\n",
      "11\n",
      "16\n",
      "22\n",
      "29\n",
      "37\n",
      "46\n",
      "sum of series:  175\n"
     ]
    }
   ],
   "source": [
    "n=int(input('enter n:'))\n",
    "counter=1\n",
    "series=1\n",
    "r=0\n",
    "while counter<=n:\n",
    "    r=r+series\n",
    "    print(series)\n",
    "    series=series+counter\n",
    "    counter+=1\n",
    "print('sum of series: ',r)"
   ]
  },
  {
   "cell_type": "code",
   "execution_count": null,
   "id": "8e7d2aff",
   "metadata": {},
   "outputs": [],
   "source": []
  }
 ],
 "metadata": {
  "kernelspec": {
   "display_name": "Python 3 (ipykernel)",
   "language": "python",
   "name": "python3"
  },
  "language_info": {
   "codemirror_mode": {
    "name": "ipython",
    "version": 3
   },
   "file_extension": ".py",
   "mimetype": "text/x-python",
   "name": "python",
   "nbconvert_exporter": "python",
   "pygments_lexer": "ipython3",
   "version": "3.9.6"
  }
 },
 "nbformat": 4,
 "nbformat_minor": 5
}
