{
 "cells": [
  {
   "cell_type": "code",
   "execution_count": 10,
   "id": "ba93fac1",
   "metadata": {},
   "outputs": [
    {
     "name": "stdout",
     "output_type": "stream",
     "text": [
      "block of if\n"
     ]
    }
   ],
   "source": [
    "if '[  ]':\n",
    "    print('block of if')\n",
    "else:\n",
    "    print('block of else')"
   ]
  },
  {
   "cell_type": "code",
   "execution_count": 14,
   "id": "f00c2e92",
   "metadata": {},
   "outputs": [
    {
     "name": "stdout",
     "output_type": "stream",
     "text": [
      "Enter any number: 50\n",
      "even number\n"
     ]
    }
   ],
   "source": [
    "n=int(input('Enter any number: '))\n",
    "if n%2:\n",
    "    print('given number is odd')\n",
    "else:\n",
    "    print('even number')"
   ]
  },
  {
   "cell_type": "markdown",
   "id": "1086018f",
   "metadata": {},
   "source": [
    "                If  n is odd, print Weird\n",
    "        If n is even and in the inclusive range of  2 to 5 , print Not Weird\n",
    "        If n is even and in the inclusive range of 6  to 20 , print Weird\n",
    "        If   n is even and greater than  20, print Not Weird\n"
   ]
  },
  {
   "cell_type": "code",
   "execution_count": 19,
   "id": "65a0bd16",
   "metadata": {},
   "outputs": [
    {
     "name": "stdout",
     "output_type": "stream",
     "text": [
      "Enter any number: 24\n",
      "not weird\n"
     ]
    }
   ],
   "source": [
    "n=int(input('Enter any number: '))\n",
    "if n%2 or (6<=n<=20):\n",
    "    print('Weird')\n",
    "elif 2<=n<=5 or n>20:\n",
    "    print('not weird')\n",
    "else:\n",
    "    print('number is zero')"
   ]
  },
  {
   "cell_type": "markdown",
   "id": "0bdf622a",
   "metadata": {},
   "source": [
    "# Write a Python program to find maximum between two numbers"
   ]
  },
  {
   "cell_type": "code",
   "execution_count": 26,
   "id": "7edca7e7",
   "metadata": {},
   "outputs": [
    {
     "name": "stdout",
     "output_type": "stream",
     "text": [
      "Enter a: 45\n",
      "Enter b: 30\n",
      "45 is max\n"
     ]
    }
   ],
   "source": [
    "a=int(input('Enter a: '))\n",
    "b=int(input('Enter b: '))\n",
    "if a>b:\n",
    "    print(f'{a} is max')\n",
    "elif a==b:\n",
    "    print('both are equal')\n",
    "else:\n",
    "    print(f'{b} is max')"
   ]
  },
  {
   "cell_type": "code",
   "execution_count": 27,
   "id": "2d081a98",
   "metadata": {},
   "outputs": [
    {
     "name": "stdout",
     "output_type": "stream",
     "text": [
      "Enter a: 90\n",
      "Enter b: 50\n",
      "90 is max\n"
     ]
    }
   ],
   "source": [
    "a=int(input('Enter a: '))\n",
    "b=int(input('Enter b: '))\n",
    "if a>b:\n",
    "    print('%d is max'%(a))\n",
    "elif a==b:\n",
    "    print('both are equal')\n",
    "else:\n",
    "    print(f'{b} is max')"
   ]
  },
  {
   "cell_type": "markdown",
   "id": "6398833b",
   "metadata": {},
   "source": [
    "# Write a Python program to check whether a number is negative, positive or zero.\n"
   ]
  },
  {
   "cell_type": "code",
   "execution_count": 30,
   "id": "ff72d757",
   "metadata": {},
   "outputs": [
    {
     "name": "stdout",
     "output_type": "stream",
     "text": [
      "Enter n :0\n",
      "zero\n"
     ]
    }
   ],
   "source": [
    "n=int(input('Enter n :'))\n",
    "if n>0:\n",
    "    print('positive')\n",
    "elif n<0:\n",
    "    print('negative')\n",
    "else:\n",
    "    print('zero')"
   ]
  },
  {
   "cell_type": "code",
   "execution_count": 31,
   "id": "fc66e824",
   "metadata": {},
   "outputs": [],
   "source": [
    "#1 to 99----> 4 \n",
    "# cen----> 400"
   ]
  },
  {
   "cell_type": "code",
   "execution_count": 33,
   "id": "81ef6790",
   "metadata": {},
   "outputs": [
    {
     "name": "stdout",
     "output_type": "stream",
     "text": [
      "Enter year :1900\n",
      "not leap year\n"
     ]
    }
   ],
   "source": [
    "year=int(input('Enter year :'))\n",
    "if year%100==0:\n",
    "    if year%400==0:\n",
    "        print('leap year')\n",
    "    else:\n",
    "        print('not leap year')\n",
    "else:\n",
    "    if year%4==0:\n",
    "        print('leap year')\n",
    "    else:\n",
    "        print('not leap year')"
   ]
  },
  {
   "cell_type": "code",
   "execution_count": 35,
   "id": "ae1bc64b",
   "metadata": {},
   "outputs": [
    {
     "data": {
      "text/plain": [
       "0"
      ]
     },
     "execution_count": 35,
     "metadata": {},
     "output_type": "execute_result"
    }
   ],
   "source": [
    "1900%4"
   ]
  },
  {
   "cell_type": "code",
   "execution_count": 39,
   "id": "0b4e4a16",
   "metadata": {},
   "outputs": [
    {
     "name": "stdout",
     "output_type": "stream",
     "text": [
      "Enter year :1800\n",
      "not leap year\n"
     ]
    }
   ],
   "source": [
    "year=int(input('Enter year :'))\n",
    "if year%4==0 and (year%400==0 or year%100):\n",
    "    print('leap year')\n",
    "else:\n",
    "    print('not leap year')"
   ]
  },
  {
   "cell_type": "markdown",
   "id": "a550804b",
   "metadata": {},
   "source": [
    "true and (true or false) ===> True"
   ]
  },
  {
   "cell_type": "code",
   "execution_count": 41,
   "id": "edeb9076",
   "metadata": {},
   "outputs": [
    {
     "name": "stdout",
     "output_type": "stream",
     "text": [
      "2\n",
      "tue\n"
     ]
    }
   ],
   "source": [
    "d={1:'mon',2:'tue',3:'wed',4:'thu'}\n",
    "n=int(input())\n",
    "if n<=7:\n",
    "    print(d.get(n))\n",
    "else:\n",
    "    print('invalid ')"
   ]
  },
  {
   "cell_type": "code",
   "execution_count": null,
   "id": "d59da242",
   "metadata": {},
   "outputs": [],
   "source": []
  }
 ],
 "metadata": {
  "kernelspec": {
   "display_name": "Python 3 (ipykernel)",
   "language": "python",
   "name": "python3"
  },
  "language_info": {
   "codemirror_mode": {
    "name": "ipython",
    "version": 3
   },
   "file_extension": ".py",
   "mimetype": "text/x-python",
   "name": "python",
   "nbconvert_exporter": "python",
   "pygments_lexer": "ipython3",
   "version": "3.9.6"
  }
 },
 "nbformat": 4,
 "nbformat_minor": 5
}
