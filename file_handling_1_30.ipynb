{
 "cells": [
  {
   "cell_type": "code",
   "execution_count": 4,
   "id": "f7fe632f",
   "metadata": {},
   "outputs": [
    {
     "name": "stdout",
     "output_type": "stream",
     "text": [
      "Enter n: 5\n",
      "1\n",
      "22\n",
      "333\n",
      "4444\n"
     ]
    }
   ],
   "source": [
    "n=int(input('Enter n: '))\n",
    "for i in range(1,n):\n",
    "    print(f'{i}'*i)"
   ]
  },
  {
   "cell_type": "code",
   "execution_count": 6,
   "id": "9387750c",
   "metadata": {},
   "outputs": [
    {
     "name": "stdout",
     "output_type": "stream",
     "text": [
      "1 \n",
      "2 3 \n",
      "4 5 6 \n",
      "7 8 9 10 \n",
      "11 12 13 14 15 \n",
      "16 17 18 19 20 21 \n"
     ]
    }
   ],
   "source": [
    "c=1\n",
    "for i in range(1,7):\n",
    "    for j in range(i):\n",
    "        print(c,end=' ')\n",
    "        c+=1\n",
    "    print()"
   ]
  },
  {
   "cell_type": "code",
   "execution_count": 7,
   "id": "e7cc13ce",
   "metadata": {},
   "outputs": [
    {
     "name": "stdout",
     "output_type": "stream",
     "text": [
      "1 \n",
      "2 3 \n",
      "3 4 5 \n",
      "4 5 6 7 \n",
      "5 6 7 8 9 \n",
      "6 7 8 9 10 11 \n",
      "7 8 9 10 11 12 13 \n"
     ]
    }
   ],
   "source": [
    "for i in range(1,8):\n",
    "    c=i\n",
    "    for j in range(i):\n",
    "        print(c,end=' ')\n",
    "        c+=1\n",
    "    print()\n",
    "    "
   ]
  },
  {
   "cell_type": "code",
   "execution_count": 13,
   "id": "552fa52c",
   "metadata": {},
   "outputs": [],
   "source": [
    " open?"
   ]
  },
  {
   "cell_type": "code",
   "execution_count": 9,
   "id": "2ff9c279",
   "metadata": {},
   "outputs": [],
   "source": [
    "f=open('C:\\\\Users\\\\rmani\\\\Desktop\\\\testing.txt','w')"
   ]
  },
  {
   "cell_type": "code",
   "execution_count": 10,
   "id": "40296347",
   "metadata": {},
   "outputs": [
    {
     "data": {
      "text/plain": [
       "<_io.TextIOWrapper name='C:\\\\Users\\\\rmani\\\\Desktop\\\\testing.txt' mode='w' encoding='cp1252'>"
      ]
     },
     "execution_count": 10,
     "metadata": {},
     "output_type": "execute_result"
    }
   ],
   "source": [
    "f"
   ]
  },
  {
   "cell_type": "code",
   "execution_count": 11,
   "id": "fd8d8f3f",
   "metadata": {},
   "outputs": [
    {
     "data": {
      "text/plain": [
       "25"
      ]
     },
     "execution_count": 11,
     "metadata": {},
     "output_type": "execute_result"
    }
   ],
   "source": [
    "f.write('hello python how are you?')"
   ]
  },
  {
   "cell_type": "code",
   "execution_count": 12,
   "id": "e857a35c",
   "metadata": {},
   "outputs": [],
   "source": [
    "f.close()"
   ]
  },
  {
   "cell_type": "code",
   "execution_count": 14,
   "id": "6131c89b",
   "metadata": {},
   "outputs": [],
   "source": [
    "file=open('C:\\\\Users\\\\rmani\\\\Desktop\\\\demo.csv','w')"
   ]
  },
  {
   "cell_type": "code",
   "execution_count": 15,
   "id": "60e26897",
   "metadata": {},
   "outputs": [
    {
     "data": {
      "text/plain": [
       "37"
      ]
     },
     "execution_count": 15,
     "metadata": {},
     "output_type": "execute_result"
    }
   ],
   "source": [
    "file.write('id,name,roll\\n101,manish,1\\n102,rahul,2')"
   ]
  },
  {
   "cell_type": "code",
   "execution_count": 16,
   "id": "72040105",
   "metadata": {},
   "outputs": [],
   "source": [
    "file.close()"
   ]
  },
  {
   "cell_type": "code",
   "execution_count": 23,
   "id": "56ea39d3",
   "metadata": {},
   "outputs": [],
   "source": [
    "f=open('C:\\\\Users\\\\rmani\\\\Desktop\\\\niki.csv')"
   ]
  },
  {
   "cell_type": "code",
   "execution_count": 24,
   "id": "26b3ea3f",
   "metadata": {},
   "outputs": [
    {
     "data": {
      "text/plain": [
       "<_io.TextIOWrapper name='C:\\\\Users\\\\rmani\\\\Desktop\\\\niki.csv' mode='r' encoding='cp1252'>"
      ]
     },
     "execution_count": 24,
     "metadata": {},
     "output_type": "execute_result"
    }
   ],
   "source": [
    "f"
   ]
  },
  {
   "cell_type": "code",
   "execution_count": 25,
   "id": "61c62870",
   "metadata": {},
   "outputs": [
    {
     "name": "stdout",
     "output_type": "stream",
     "text": [
      "1001,sachin,9782131159,sachin@grras.com\n",
      "1002,kushal,1234323456,kushal.samota@grras.com\n",
      "1003,rajat,8923342334,rajat.goyal@gmail.com\n",
      "1004,ravi,9782123432,ravi.sarswat@gmail.com\n",
      "1005,gaurav,992334561,gaurav.saluja@gmai.com\n",
      "1006,nidhi,9912345678,nidhi.sharma@yahoo.com\n",
      "1007,manish,7878889789,rmanish911@gmail.com\n",
      "\n"
     ]
    }
   ],
   "source": [
    "print(f.read())"
   ]
  },
  {
   "cell_type": "code",
   "execution_count": 21,
   "id": "00370302",
   "metadata": {},
   "outputs": [
    {
     "name": "stdout",
     "output_type": "stream",
     "text": [
      "1001,sachin,9782131159,sachin@grras.com\n",
      "1002,kushal,1234323456,kushal.samota@grras.com\n",
      "1003,rajat,8923342334,rajat.goyal@gmail.com\n",
      "1004,ravi,9782123432,ravi.sarswat@gmail.com\n",
      "1005,gaurav,992334561,gaurav.saluja@gmai.com\n",
      "1006,nidhi,9912345678,nidhi.sharma@yahoo.com\n",
      "1007,manish,7878889789,rmanish911@gmail.com\n",
      "\n"
     ]
    }
   ],
   "source": [
    "print(data)"
   ]
  },
  {
   "cell_type": "code",
   "execution_count": 26,
   "id": "8902777f",
   "metadata": {},
   "outputs": [],
   "source": [
    "f=open('C:\\\\Users\\\\rmani\\\\Desktop\\\\testing.txt','a')"
   ]
  },
  {
   "cell_type": "code",
   "execution_count": 27,
   "id": "8d64dc07",
   "metadata": {},
   "outputs": [
    {
     "data": {
      "text/plain": [
       "14"
      ]
     },
     "execution_count": 27,
     "metadata": {},
     "output_type": "execute_result"
    }
   ],
   "source": [
    "f.write('\\nhello manish ')"
   ]
  },
  {
   "cell_type": "code",
   "execution_count": 28,
   "id": "8f8c0d80",
   "metadata": {},
   "outputs": [],
   "source": [
    "f.close()"
   ]
  },
  {
   "cell_type": "code",
   "execution_count": 29,
   "id": "6dacb421",
   "metadata": {},
   "outputs": [
    {
     "name": "stdout",
     "output_type": "stream",
     "text": [
      "Enter student info: roll name eng sci math\n",
      "Enter student info: 101 ram 89 87 77\n",
      "Enter student info: 102 shan 90 98 99\n",
      "Enter student info: 103 jeet 56 66 57\n",
      "Enter student info: 104 mann 56 89 98\n",
      "Enter student info: 105 neha 88 87 65\n"
     ]
    }
   ],
   "source": [
    "file=open('C:\\\\Users\\\\rmani\\\\Desktop\\\\st.txt','w')\n",
    "for i in range(6):\n",
    "    data=input('Enter student info: ').split()\n",
    "    data='\\t'.join(data)\n",
    "    data=data+'\\n'\n",
    "    file.write(data)\n",
    "file.close()"
   ]
  },
  {
   "cell_type": "code",
   "execution_count": 30,
   "id": "e7324adc",
   "metadata": {},
   "outputs": [],
   "source": [
    "y='id name math sci'"
   ]
  },
  {
   "cell_type": "code",
   "execution_count": 31,
   "id": "1e71e23f",
   "metadata": {},
   "outputs": [
    {
     "data": {
      "text/plain": [
       "'id name math sci'"
      ]
     },
     "execution_count": 31,
     "metadata": {},
     "output_type": "execute_result"
    }
   ],
   "source": [
    "y"
   ]
  },
  {
   "cell_type": "code",
   "execution_count": 33,
   "id": "f6ecd6b9",
   "metadata": {},
   "outputs": [],
   "source": [
    "r=y.split()"
   ]
  },
  {
   "cell_type": "code",
   "execution_count": 34,
   "id": "66f50ffb",
   "metadata": {},
   "outputs": [
    {
     "data": {
      "text/plain": [
       "['id', 'name', 'math', 'sci']"
      ]
     },
     "execution_count": 34,
     "metadata": {},
     "output_type": "execute_result"
    }
   ],
   "source": [
    "r"
   ]
  },
  {
   "cell_type": "code",
   "execution_count": 36,
   "id": "eb6853a8",
   "metadata": {},
   "outputs": [],
   "source": [
    "t='\\t'.join(r)"
   ]
  },
  {
   "cell_type": "code",
   "execution_count": 37,
   "id": "a66ea869",
   "metadata": {},
   "outputs": [
    {
     "data": {
      "text/plain": [
       "'id\\tname\\tmath\\tsci'"
      ]
     },
     "execution_count": 37,
     "metadata": {},
     "output_type": "execute_result"
    }
   ],
   "source": [
    "t"
   ]
  },
  {
   "cell_type": "code",
   "execution_count": 38,
   "id": "386e6465",
   "metadata": {},
   "outputs": [
    {
     "name": "stdout",
     "output_type": "stream",
     "text": [
      "id\tname\tmath\tsci\n"
     ]
    }
   ],
   "source": [
    "print(t)"
   ]
  },
  {
   "cell_type": "code",
   "execution_count": 39,
   "id": "e8f2c6f3",
   "metadata": {},
   "outputs": [],
   "source": [
    "f=open('C:\\\\Users\\\\rmani\\\\Desktop\\\\st.txt')"
   ]
  },
  {
   "cell_type": "code",
   "execution_count": 40,
   "id": "f7e18882",
   "metadata": {},
   "outputs": [],
   "source": [
    "f=open('C:\\\\Users\\\\rmani\\\\Desktop\\\\st.txt')\n",
    "data=f.read()"
   ]
  },
  {
   "cell_type": "code",
   "execution_count": 41,
   "id": "469aeb60",
   "metadata": {},
   "outputs": [
    {
     "name": "stdout",
     "output_type": "stream",
     "text": [
      "roll\tname\teng\tsci\tmath\n",
      "101\tram\t89\t87\t77\n",
      "102\tshan\t90\t98\t99\n",
      "103\tjeet\t56\t66\t57\n",
      "104\tmann\t56\t89\t98\n",
      "105\tneha\t88\t87\t65\n",
      "\n"
     ]
    }
   ],
   "source": [
    "print(data)"
   ]
  },
  {
   "cell_type": "code",
   "execution_count": 42,
   "id": "60509567",
   "metadata": {},
   "outputs": [
    {
     "name": "stdout",
     "output_type": "stream",
     "text": [
      "'roll\\tname\\teng\\tsci\\tmath\\n101\\tram\\t89\\t87\\t77\\n102\\tshan\\t90\\t98\\t99\\n103\\tjeet\\t56\\t66\\t57\\n104\\tmann\\t56\\t89\\t98\\n105\\tneha\\t88\\t87\\t65\\n'\n"
     ]
    }
   ],
   "source": [
    "print(repr(data))"
   ]
  },
  {
   "cell_type": "code",
   "execution_count": 43,
   "id": "3ced9a70",
   "metadata": {},
   "outputs": [],
   "source": [
    "f=open('C:\\\\Users\\\\rmani\\\\Desktop\\\\st.txt')\n",
    "data=f.read()\n",
    "res=data.split('\\n')"
   ]
  },
  {
   "cell_type": "code",
   "execution_count": 44,
   "id": "99a3c084",
   "metadata": {},
   "outputs": [
    {
     "name": "stdout",
     "output_type": "stream",
     "text": [
      "['roll\\tname\\teng\\tsci\\tmath', '101\\tram\\t89\\t87\\t77', '102\\tshan\\t90\\t98\\t99', '103\\tjeet\\t56\\t66\\t57', '104\\tmann\\t56\\t89\\t98', '105\\tneha\\t88\\t87\\t65', '']\n"
     ]
    }
   ],
   "source": [
    "print(repr(res))"
   ]
  },
  {
   "cell_type": "code",
   "execution_count": 45,
   "id": "53946933",
   "metadata": {},
   "outputs": [
    {
     "data": {
      "text/plain": [
       "'roll\\tname\\teng\\tsci\\tmath'"
      ]
     },
     "execution_count": 45,
     "metadata": {},
     "output_type": "execute_result"
    }
   ],
   "source": [
    "res[0]"
   ]
  },
  {
   "cell_type": "code",
   "execution_count": 46,
   "id": "c6a51d95",
   "metadata": {},
   "outputs": [
    {
     "data": {
      "text/plain": [
       "'101\\tram\\t89\\t87\\t77'"
      ]
     },
     "execution_count": 46,
     "metadata": {},
     "output_type": "execute_result"
    }
   ],
   "source": [
    "res[1]"
   ]
  },
  {
   "cell_type": "code",
   "execution_count": 47,
   "id": "8953af3b",
   "metadata": {},
   "outputs": [
    {
     "data": {
      "text/plain": [
       "'102\\tshan\\t90\\t98\\t99'"
      ]
     },
     "execution_count": 47,
     "metadata": {},
     "output_type": "execute_result"
    }
   ],
   "source": [
    "res[2]"
   ]
  },
  {
   "cell_type": "code",
   "execution_count": 48,
   "id": "7798ac6e",
   "metadata": {},
   "outputs": [],
   "source": [
    "w=res[1:-1]"
   ]
  },
  {
   "cell_type": "code",
   "execution_count": 49,
   "id": "07264b68",
   "metadata": {},
   "outputs": [
    {
     "name": "stdout",
     "output_type": "stream",
     "text": [
      "['101\\tram\\t89\\t87\\t77', '102\\tshan\\t90\\t98\\t99', '103\\tjeet\\t56\\t66\\t57', '104\\tmann\\t56\\t89\\t98', '105\\tneha\\t88\\t87\\t65']\n"
     ]
    }
   ],
   "source": [
    "print(repr(w))"
   ]
  },
  {
   "cell_type": "code",
   "execution_count": 68,
   "id": "3e2c0152",
   "metadata": {},
   "outputs": [],
   "source": [
    "f=open('C:\\\\Users\\\\rmani\\\\Desktop\\\\st.txt')\n",
    "data=f.read()\n",
    "res=data.split('\\n')\n",
    "result=[]\n",
    "for i in w:\n",
    "    i=i.split('\\t')\n",
    "    per=str(round(sum(map(int,i[2:]))/3,2))\n",
    "    i.append(per)\n",
    "    i='\\t'.join(i)\n",
    "    result.append(i)"
   ]
  },
  {
   "cell_type": "code",
   "execution_count": 69,
   "id": "3a39ac04",
   "metadata": {},
   "outputs": [
    {
     "name": "stdout",
     "output_type": "stream",
     "text": [
      "['101\\tram\\t89\\t87\\t77\\t84.33', '102\\tshan\\t90\\t98\\t99\\t95.67', '103\\tjeet\\t56\\t66\\t57\\t59.67', '104\\tmann\\t56\\t89\\t98\\t81.0', '105\\tneha\\t88\\t87\\t65\\t80.0']\n"
     ]
    }
   ],
   "source": [
    "print(result)"
   ]
  },
  {
   "cell_type": "code",
   "execution_count": 70,
   "id": "633a7f77",
   "metadata": {},
   "outputs": [],
   "source": [
    "f=open('C:\\\\Users\\\\rmani\\\\Desktop\\\\st.txt')\n",
    "data=f.read()\n",
    "res=data.split('\\n')\n",
    "result=[]\n",
    "for i in w:\n",
    "    i=i.split('\\t')\n",
    "    per=str(round(sum(map(int,i[2:]))/3,2))\n",
    "    i.append(per)\n",
    "    i='\\t'.join(i)\n",
    "    result.append(i)\n",
    "final='\\n'.join(result)"
   ]
  },
  {
   "cell_type": "code",
   "execution_count": 71,
   "id": "83564ca7",
   "metadata": {},
   "outputs": [
    {
     "name": "stdout",
     "output_type": "stream",
     "text": [
      "'101\\tram\\t89\\t87\\t77\\t84.33\\n102\\tshan\\t90\\t98\\t99\\t95.67\\n103\\tjeet\\t56\\t66\\t57\\t59.67\\n104\\tmann\\t56\\t89\\t98\\t81.0\\n105\\tneha\\t88\\t87\\t65\\t80.0'\n"
     ]
    }
   ],
   "source": [
    "print(repr(final))"
   ]
  },
  {
   "cell_type": "code",
   "execution_count": 73,
   "id": "c82e9933",
   "metadata": {},
   "outputs": [],
   "source": [
    "f=open('C:\\\\Users\\\\rmani\\\\Desktop\\\\st.txt')\n",
    "data=f.read()\n",
    "res=data.split('\\n')\n",
    "result=[]\n",
    "for i in w:\n",
    "    i=i.split('\\t')\n",
    "    per=str(round(sum(map(int,i[2:]))/3,2))\n",
    "    i.append(per)\n",
    "    i='\\t'.join(i)\n",
    "    result.append(i)\n",
    "final='\\n'.join(result)\n",
    "head=res[0]+'\\tpercent\\n'"
   ]
  },
  {
   "cell_type": "code",
   "execution_count": 74,
   "id": "750378be",
   "metadata": {},
   "outputs": [
    {
     "data": {
      "text/plain": [
       "'roll\\tname\\teng\\tsci\\tmath\\tpercent\\n'"
      ]
     },
     "execution_count": 74,
     "metadata": {},
     "output_type": "execute_result"
    }
   ],
   "source": [
    "head"
   ]
  },
  {
   "cell_type": "code",
   "execution_count": 75,
   "id": "563115d0",
   "metadata": {},
   "outputs": [],
   "source": [
    "f=open('C:\\\\Users\\\\rmani\\\\Desktop\\\\st.txt')\n",
    "data=f.read()\n",
    "res=data.split('\\n')\n",
    "result=[]\n",
    "for i in w:\n",
    "    i=i.split('\\t')\n",
    "    per=str(round(sum(map(int,i[2:]))/3,2))\n",
    "    i.append(per)\n",
    "    i='\\t'.join(i)\n",
    "    result.append(i)\n",
    "final='\\n'.join(result)\n",
    "head=res[0]+'\\tpercent\\n'\n",
    "final_result=head+final"
   ]
  },
  {
   "cell_type": "code",
   "execution_count": 76,
   "id": "91dcf92e",
   "metadata": {},
   "outputs": [
    {
     "name": "stdout",
     "output_type": "stream",
     "text": [
      "roll\tname\teng\tsci\tmath\tpercent\n",
      "101\tram\t89\t87\t77\t84.33\n",
      "102\tshan\t90\t98\t99\t95.67\n",
      "103\tjeet\t56\t66\t57\t59.67\n",
      "104\tmann\t56\t89\t98\t81.0\n",
      "105\tneha\t88\t87\t65\t80.0\n"
     ]
    }
   ],
   "source": [
    "print(final_result)"
   ]
  },
  {
   "cell_type": "code",
   "execution_count": null,
   "id": "7f9be026",
   "metadata": {},
   "outputs": [],
   "source": []
  },
  {
   "cell_type": "code",
   "execution_count": null,
   "id": "ace6fee1",
   "metadata": {},
   "outputs": [],
   "source": []
  },
  {
   "cell_type": "code",
   "execution_count": null,
   "id": "4f612adf",
   "metadata": {},
   "outputs": [],
   "source": []
  },
  {
   "cell_type": "code",
   "execution_count": null,
   "id": "4fc6bc8e",
   "metadata": {},
   "outputs": [],
   "source": []
  },
  {
   "cell_type": "code",
   "execution_count": 86,
   "id": "bc5c9d3b",
   "metadata": {},
   "outputs": [
    {
     "name": "stdout",
     "output_type": "stream",
     "text": [
      "Overwriting file.py\n"
     ]
    }
   ],
   "source": [
    "%%writefile file.py\n",
    "f=open('C:\\\\Users\\\\rmani\\\\Desktop\\\\st.txt')\n",
    "data=f.read()\n",
    "res=data.split('\\n')\n",
    "result=[]\n",
    "w=res[1:-1]\n",
    "for i in w:\n",
    "    i=i.split('\\t')\n",
    "    per=str(round(sum(map(int,i[2:]))/3,2))\n",
    "    i.append(per)\n",
    "    i='\\t'.join(i)\n",
    "    result.append(i)\n",
    "final='\\n'.join(result)\n",
    "head=res[0]+'\\tpercent\\n'\n",
    "final_result=head+final"
   ]
  },
  {
   "cell_type": "code",
   "execution_count": 77,
   "id": "923b96c1",
   "metadata": {},
   "outputs": [],
   "source": [
    "l=['10','20','30','40']"
   ]
  },
  {
   "cell_type": "code",
   "execution_count": 80,
   "id": "72a9185d",
   "metadata": {},
   "outputs": [
    {
     "name": "stdout",
     "output_type": "stream",
     "text": [
      "100\n"
     ]
    }
   ],
   "source": [
    "s=0\n",
    "for i in l:\n",
    "    s=s+int(i)\n",
    "print(s)"
   ]
  },
  {
   "cell_type": "code",
   "execution_count": 83,
   "id": "d95d2a2f",
   "metadata": {},
   "outputs": [
    {
     "data": {
      "text/plain": [
       "100"
      ]
     },
     "execution_count": 83,
     "metadata": {},
     "output_type": "execute_result"
    }
   ],
   "source": [
    "sum(map(int,l))"
   ]
  },
  {
   "cell_type": "code",
   "execution_count": null,
   "id": "1a646191",
   "metadata": {},
   "outputs": [],
   "source": []
  }
 ],
 "metadata": {
  "kernelspec": {
   "display_name": "Python 3 (ipykernel)",
   "language": "python",
   "name": "python3"
  },
  "language_info": {
   "codemirror_mode": {
    "name": "ipython",
    "version": 3
   },
   "file_extension": ".py",
   "mimetype": "text/x-python",
   "name": "python",
   "nbconvert_exporter": "python",
   "pygments_lexer": "ipython3",
   "version": "3.9.6"
  }
 },
 "nbformat": 4,
 "nbformat_minor": 5
}
