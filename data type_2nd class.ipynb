{
 "cells": [
  {
   "cell_type": "code",
   "execution_count": 1,
   "id": "2a272c96",
   "metadata": {},
   "outputs": [],
   "source": [
    "s='hello how are you'"
   ]
  },
  {
   "cell_type": "code",
   "execution_count": 2,
   "id": "a8f4dd62",
   "metadata": {},
   "outputs": [
    {
     "name": "stdout",
     "output_type": "stream",
     "text": [
      "['__add__', '__class__', '__contains__', '__delattr__', '__dir__', '__doc__', '__eq__', '__format__', '__ge__', '__getattribute__', '__getitem__', '__getnewargs__', '__gt__', '__hash__', '__init__', '__init_subclass__', '__iter__', '__le__', '__len__', '__lt__', '__mod__', '__mul__', '__ne__', '__new__', '__reduce__', '__reduce_ex__', '__repr__', '__rmod__', '__rmul__', '__setattr__', '__sizeof__', '__str__', '__subclasshook__', 'capitalize', 'casefold', 'center', 'count', 'encode', 'endswith', 'expandtabs', 'find', 'format', 'format_map', 'index', 'isalnum', 'isalpha', 'isascii', 'isdecimal', 'isdigit', 'isidentifier', 'islower', 'isnumeric', 'isprintable', 'isspace', 'istitle', 'isupper', 'join', 'ljust', 'lower', 'lstrip', 'maketrans', 'partition', 'removeprefix', 'removesuffix', 'replace', 'rfind', 'rindex', 'rjust', 'rpartition', 'rsplit', 'rstrip', 'split', 'splitlines', 'startswith', 'strip', 'swapcase', 'title', 'translate', 'upper', 'zfill']\n"
     ]
    }
   ],
   "source": [
    "print(dir(str))"
   ]
  },
  {
   "cell_type": "code",
   "execution_count": 3,
   "id": "1c8c16d4",
   "metadata": {},
   "outputs": [],
   "source": [
    "s.isupper?"
   ]
  },
  {
   "cell_type": "code",
   "execution_count": 4,
   "id": "42a18878",
   "metadata": {},
   "outputs": [],
   "source": [
    "a='     hello manish      '"
   ]
  },
  {
   "cell_type": "code",
   "execution_count": 5,
   "id": "adfd868c",
   "metadata": {},
   "outputs": [
    {
     "data": {
      "text/plain": [
       "'     hello manish      '"
      ]
     },
     "execution_count": 5,
     "metadata": {},
     "output_type": "execute_result"
    }
   ],
   "source": [
    "a"
   ]
  },
  {
   "cell_type": "code",
   "execution_count": 7,
   "id": "84d90b07",
   "metadata": {},
   "outputs": [
    {
     "data": {
      "text/plain": [
       "'     hello manish'"
      ]
     },
     "execution_count": 7,
     "metadata": {},
     "output_type": "execute_result"
    }
   ],
   "source": [
    "a.rstrip()"
   ]
  },
  {
   "cell_type": "code",
   "execution_count": 8,
   "id": "6f073ccb",
   "metadata": {},
   "outputs": [
    {
     "name": "stdout",
     "output_type": "stream",
     "text": [
      "Enter your name : rahuL\n"
     ]
    }
   ],
   "source": [
    "name=input('Enter your name : ').capitalize()"
   ]
  },
  {
   "cell_type": "code",
   "execution_count": 9,
   "id": "363533e6",
   "metadata": {},
   "outputs": [
    {
     "data": {
      "text/plain": [
       "'Rahul'"
      ]
     },
     "execution_count": 9,
     "metadata": {},
     "output_type": "execute_result"
    }
   ],
   "source": [
    "name"
   ]
  },
  {
   "cell_type": "code",
   "execution_count": 10,
   "id": "a3b64450",
   "metadata": {},
   "outputs": [
    {
     "data": {
      "text/plain": [
       "'     hello manish      '"
      ]
     },
     "execution_count": 10,
     "metadata": {},
     "output_type": "execute_result"
    }
   ],
   "source": [
    "a"
   ]
  },
  {
   "cell_type": "code",
   "execution_count": 11,
   "id": "47ae983f",
   "metadata": {},
   "outputs": [],
   "source": [
    "f='hello manish'"
   ]
  },
  {
   "cell_type": "code",
   "execution_count": 12,
   "id": "0dab825c",
   "metadata": {},
   "outputs": [
    {
     "data": {
      "text/plain": [
       "'h'"
      ]
     },
     "execution_count": 12,
     "metadata": {},
     "output_type": "execute_result"
    }
   ],
   "source": [
    "f[-1]"
   ]
  },
  {
   "cell_type": "code",
   "execution_count": 13,
   "id": "18ecbcc5",
   "metadata": {},
   "outputs": [
    {
     "data": {
      "text/plain": [
       "'i'"
      ]
     },
     "execution_count": 13,
     "metadata": {},
     "output_type": "execute_result"
    }
   ],
   "source": [
    "f[-3]"
   ]
  },
  {
   "cell_type": "code",
   "execution_count": 14,
   "id": "341ba04f",
   "metadata": {},
   "outputs": [
    {
     "data": {
      "text/plain": [
       "'lo '"
      ]
     },
     "execution_count": 14,
     "metadata": {},
     "output_type": "execute_result"
    }
   ],
   "source": [
    "f[3:6]"
   ]
  },
  {
   "cell_type": "code",
   "execution_count": 16,
   "id": "a46c9787",
   "metadata": {},
   "outputs": [
    {
     "data": {
      "text/plain": [
       "'inam'"
      ]
     },
     "execution_count": 16,
     "metadata": {},
     "output_type": "execute_result"
    }
   ],
   "source": [
    "f[-3:-7:-1]"
   ]
  },
  {
   "cell_type": "code",
   "execution_count": 17,
   "id": "fd1bbd95",
   "metadata": {},
   "outputs": [
    {
     "data": {
      "text/plain": [
       "'hello manish'"
      ]
     },
     "execution_count": 17,
     "metadata": {},
     "output_type": "execute_result"
    }
   ],
   "source": [
    "f"
   ]
  },
  {
   "cell_type": "code",
   "execution_count": 18,
   "id": "f8283a58",
   "metadata": {},
   "outputs": [
    {
     "data": {
      "text/plain": [
       "'hsinam olleh'"
      ]
     },
     "execution_count": 18,
     "metadata": {},
     "output_type": "execute_result"
    }
   ],
   "source": [
    "f[::-1]"
   ]
  },
  {
   "cell_type": "code",
   "execution_count": 19,
   "id": "0b2d3030",
   "metadata": {},
   "outputs": [],
   "source": [
    "s='patel harsh'"
   ]
  },
  {
   "cell_type": "code",
   "execution_count": 22,
   "id": "2349cdb2",
   "metadata": {},
   "outputs": [
    {
     "data": {
      "text/plain": [
       "'patel harshm'"
      ]
     },
     "execution_count": 22,
     "metadata": {},
     "output_type": "execute_result"
    }
   ],
   "source": [
    "s+'m'"
   ]
  },
  {
   "cell_type": "code",
   "execution_count": 39,
   "id": "08e21f35",
   "metadata": {},
   "outputs": [],
   "source": [
    "# list-----> list(), []\n",
    "# tuple------ ()---->\n",
    "# collection of data type ----> \n",
    "# '' used for string\n",
    "# ()  ---> for tuple\n",
    "# []   ---> for list\n",
    "# {} ----> dict , set"
   ]
  },
  {
   "cell_type": "code",
   "execution_count": 24,
   "id": "b9d9ff40",
   "metadata": {},
   "outputs": [],
   "source": [
    "a='mann','rahul','shan','jeet'"
   ]
  },
  {
   "cell_type": "code",
   "execution_count": 25,
   "id": "d7e6d861",
   "metadata": {},
   "outputs": [
    {
     "data": {
      "text/plain": [
       "tuple"
      ]
     },
     "execution_count": 25,
     "metadata": {},
     "output_type": "execute_result"
    }
   ],
   "source": [
    "type(a)"
   ]
  },
  {
   "cell_type": "code",
   "execution_count": 37,
   "id": "6d9b76cb",
   "metadata": {},
   "outputs": [],
   "source": [
    "y={'mann','rahul','shan','jeet'}"
   ]
  },
  {
   "cell_type": "code",
   "execution_count": 38,
   "id": "3ae94e68",
   "metadata": {},
   "outputs": [
    {
     "data": {
      "text/plain": [
       "set"
      ]
     },
     "execution_count": 38,
     "metadata": {},
     "output_type": "execute_result"
    }
   ],
   "source": [
    "type(y)"
   ]
  },
  {
   "cell_type": "code",
   "execution_count": 29,
   "id": "e89f8581",
   "metadata": {},
   "outputs": [],
   "source": [
    "t=tuple(('mann','rahul','shan','jeet'))"
   ]
  },
  {
   "cell_type": "code",
   "execution_count": 30,
   "id": "e975ac29",
   "metadata": {},
   "outputs": [
    {
     "data": {
      "text/plain": [
       "tuple"
      ]
     },
     "execution_count": 30,
     "metadata": {},
     "output_type": "execute_result"
    }
   ],
   "source": [
    "type(t)"
   ]
  },
  {
   "cell_type": "code",
   "execution_count": 33,
   "id": "7e3ffa15",
   "metadata": {},
   "outputs": [],
   "source": [
    "c='manisgh',"
   ]
  },
  {
   "cell_type": "code",
   "execution_count": 34,
   "id": "3c57606e",
   "metadata": {},
   "outputs": [
    {
     "data": {
      "text/plain": [
       "tuple"
      ]
     },
     "execution_count": 34,
     "metadata": {},
     "output_type": "execute_result"
    }
   ],
   "source": [
    "type(c)"
   ]
  },
  {
   "cell_type": "code",
   "execution_count": 40,
   "id": "83a8a564",
   "metadata": {},
   "outputs": [],
   "source": [
    "# list ---> mutable \n",
    "# tuple ---> immutable "
   ]
  },
  {
   "cell_type": "code",
   "execution_count": 41,
   "id": "3dfe9245",
   "metadata": {},
   "outputs": [],
   "source": [
    "info=('manish',23,'jaipur','M.S')"
   ]
  },
  {
   "cell_type": "code",
   "execution_count": 42,
   "id": "fa27d7b2",
   "metadata": {},
   "outputs": [],
   "source": [
    "info1=['manish',23,'jaipur','M.S']"
   ]
  },
  {
   "cell_type": "code",
   "execution_count": 43,
   "id": "74b38537",
   "metadata": {},
   "outputs": [
    {
     "data": {
      "text/plain": [
       "('manish', 23, 'jaipur', 'M.S')"
      ]
     },
     "execution_count": 43,
     "metadata": {},
     "output_type": "execute_result"
    }
   ],
   "source": [
    "info"
   ]
  },
  {
   "cell_type": "code",
   "execution_count": 44,
   "id": "5113eee3",
   "metadata": {},
   "outputs": [
    {
     "data": {
      "text/plain": [
       "['manish', 23, 'jaipur', 'M.S']"
      ]
     },
     "execution_count": 44,
     "metadata": {},
     "output_type": "execute_result"
    }
   ],
   "source": [
    "info1"
   ]
  },
  {
   "cell_type": "code",
   "execution_count": 45,
   "id": "c89a0a6a",
   "metadata": {},
   "outputs": [
    {
     "data": {
      "text/plain": [
       "56"
      ]
     },
     "execution_count": 45,
     "metadata": {},
     "output_type": "execute_result"
    }
   ],
   "source": [
    "info.__sizeof__()"
   ]
  },
  {
   "cell_type": "code",
   "execution_count": 46,
   "id": "2ab23697",
   "metadata": {},
   "outputs": [
    {
     "data": {
      "text/plain": [
       "104"
      ]
     },
     "execution_count": 46,
     "metadata": {},
     "output_type": "execute_result"
    }
   ],
   "source": [
    "info1.__sizeof__()"
   ]
  },
  {
   "cell_type": "code",
   "execution_count": 47,
   "id": "b5f78424",
   "metadata": {},
   "outputs": [
    {
     "data": {
      "text/plain": [
       "['manish', 23, 'jaipur', 'M.S']"
      ]
     },
     "execution_count": 47,
     "metadata": {},
     "output_type": "execute_result"
    }
   ],
   "source": [
    "info1"
   ]
  },
  {
   "cell_type": "code",
   "execution_count": 48,
   "id": "a1679328",
   "metadata": {},
   "outputs": [
    {
     "data": {
      "text/plain": [
       "('manish', 23, 'jaipur', 'M.S')"
      ]
     },
     "execution_count": 48,
     "metadata": {},
     "output_type": "execute_result"
    }
   ],
   "source": [
    "info"
   ]
  },
  {
   "cell_type": "code",
   "execution_count": 49,
   "id": "692e9967",
   "metadata": {},
   "outputs": [
    {
     "name": "stdout",
     "output_type": "stream",
     "text": [
      "['__add__', '__class__', '__class_getitem__', '__contains__', '__delattr__', '__dir__', '__doc__', '__eq__', '__format__', '__ge__', '__getattribute__', '__getitem__', '__getnewargs__', '__gt__', '__hash__', '__init__', '__init_subclass__', '__iter__', '__le__', '__len__', '__lt__', '__mul__', '__ne__', '__new__', '__reduce__', '__reduce_ex__', '__repr__', '__rmul__', '__setattr__', '__sizeof__', '__str__', '__subclasshook__', 'count', 'index']\n"
     ]
    }
   ],
   "source": [
    "print(dir(tuple))"
   ]
  },
  {
   "cell_type": "code",
   "execution_count": 50,
   "id": "481e4b8a",
   "metadata": {},
   "outputs": [
    {
     "data": {
      "text/plain": [
       "1"
      ]
     },
     "execution_count": 50,
     "metadata": {},
     "output_type": "execute_result"
    }
   ],
   "source": [
    "info.count('manish')"
   ]
  },
  {
   "cell_type": "code",
   "execution_count": 51,
   "id": "b22bb770",
   "metadata": {},
   "outputs": [
    {
     "data": {
      "text/plain": [
       "0"
      ]
     },
     "execution_count": 51,
     "metadata": {},
     "output_type": "execute_result"
    }
   ],
   "source": [
    "info.count('rahul')"
   ]
  },
  {
   "cell_type": "code",
   "execution_count": 52,
   "id": "821cd75e",
   "metadata": {},
   "outputs": [
    {
     "data": {
      "text/plain": [
       "('manish', 23, 'jaipur', 'M.S')"
      ]
     },
     "execution_count": 52,
     "metadata": {},
     "output_type": "execute_result"
    }
   ],
   "source": [
    "info"
   ]
  },
  {
   "cell_type": "code",
   "execution_count": 53,
   "id": "28e264ec",
   "metadata": {},
   "outputs": [
    {
     "data": {
      "text/plain": [
       "'manish'"
      ]
     },
     "execution_count": 53,
     "metadata": {},
     "output_type": "execute_result"
    }
   ],
   "source": [
    "info[0]"
   ]
  },
  {
   "cell_type": "code",
   "execution_count": 54,
   "id": "f3cbbef9",
   "metadata": {},
   "outputs": [
    {
     "data": {
      "text/plain": [
       "23"
      ]
     },
     "execution_count": 54,
     "metadata": {},
     "output_type": "execute_result"
    }
   ],
   "source": [
    "info[1]"
   ]
  },
  {
   "cell_type": "code",
   "execution_count": 55,
   "id": "3e7f9fa2",
   "metadata": {},
   "outputs": [
    {
     "data": {
      "text/plain": [
       "0"
      ]
     },
     "execution_count": 55,
     "metadata": {},
     "output_type": "execute_result"
    }
   ],
   "source": [
    "info.index('manish')"
   ]
  },
  {
   "cell_type": "code",
   "execution_count": 56,
   "id": "b0140adc",
   "metadata": {},
   "outputs": [
    {
     "data": {
      "text/plain": [
       "1"
      ]
     },
     "execution_count": 56,
     "metadata": {},
     "output_type": "execute_result"
    }
   ],
   "source": [
    "info.index(23)"
   ]
  },
  {
   "cell_type": "code",
   "execution_count": 57,
   "id": "223f08d0",
   "metadata": {},
   "outputs": [
    {
     "name": "stdout",
     "output_type": "stream",
     "text": [
      "['__add__', '__class__', '__class_getitem__', '__contains__', '__delattr__', '__delitem__', '__dir__', '__doc__', '__eq__', '__format__', '__ge__', '__getattribute__', '__getitem__', '__gt__', '__hash__', '__iadd__', '__imul__', '__init__', '__init_subclass__', '__iter__', '__le__', '__len__', '__lt__', '__mul__', '__ne__', '__new__', '__reduce__', '__reduce_ex__', '__repr__', '__reversed__', '__rmul__', '__setattr__', '__setitem__', '__sizeof__', '__str__', '__subclasshook__', 'append', 'clear', 'copy', 'count', 'extend', 'index', 'insert', 'pop', 'remove', 'reverse', 'sort']\n"
     ]
    }
   ],
   "source": [
    "print(dir(list))"
   ]
  },
  {
   "cell_type": "code",
   "execution_count": 59,
   "id": "7d4e4709",
   "metadata": {},
   "outputs": [],
   "source": [
    "#for add element in list \n",
    "# append----> end of the list\n",
    "# insert\n",
    "# extend"
   ]
  },
  {
   "cell_type": "code",
   "execution_count": 60,
   "id": "3da69a34",
   "metadata": {},
   "outputs": [
    {
     "data": {
      "text/plain": [
       "['manish', 23, 'jaipur', 'M.S']"
      ]
     },
     "execution_count": 60,
     "metadata": {},
     "output_type": "execute_result"
    }
   ],
   "source": [
    "info1"
   ]
  },
  {
   "cell_type": "code",
   "execution_count": 61,
   "id": "cd1a1a10",
   "metadata": {},
   "outputs": [],
   "source": [
    "info1.append('Mathura')"
   ]
  },
  {
   "cell_type": "code",
   "execution_count": 62,
   "id": "5ade9ded",
   "metadata": {},
   "outputs": [
    {
     "data": {
      "text/plain": [
       "['manish', 23, 'jaipur', 'M.S', 'Mathura']"
      ]
     },
     "execution_count": 62,
     "metadata": {},
     "output_type": "execute_result"
    }
   ],
   "source": [
    "info1"
   ]
  },
  {
   "cell_type": "code",
   "execution_count": 66,
   "id": "73b0d8e3",
   "metadata": {},
   "outputs": [],
   "source": [
    "info1.append('delhi')"
   ]
  },
  {
   "cell_type": "code",
   "execution_count": 67,
   "id": "15c4cc3c",
   "metadata": {},
   "outputs": [
    {
     "data": {
      "text/plain": [
       "['manish', 23, 'jaipur', 'M.S', 'Mathura', 'delhi', 'delhi']"
      ]
     },
     "execution_count": 67,
     "metadata": {},
     "output_type": "execute_result"
    }
   ],
   "source": [
    "info1"
   ]
  },
  {
   "cell_type": "code",
   "execution_count": 68,
   "id": "97c4e6ea",
   "metadata": {},
   "outputs": [],
   "source": [
    "info1.insert(2,'ahmedabad') # (indexing, element)"
   ]
  },
  {
   "cell_type": "code",
   "execution_count": 69,
   "id": "24d79116",
   "metadata": {},
   "outputs": [
    {
     "data": {
      "text/plain": [
       "['manish', 23, 'ahmedabad', 'jaipur', 'M.S', 'Mathura', 'delhi', 'delhi']"
      ]
     },
     "execution_count": 69,
     "metadata": {},
     "output_type": "execute_result"
    }
   ],
   "source": [
    "info1"
   ]
  },
  {
   "cell_type": "code",
   "execution_count": 70,
   "id": "9daad55e",
   "metadata": {},
   "outputs": [],
   "source": [
    "info1.extend(['jeet','neha','shan','rahul'])"
   ]
  },
  {
   "cell_type": "code",
   "execution_count": 71,
   "id": "54bbc4d0",
   "metadata": {},
   "outputs": [
    {
     "name": "stdout",
     "output_type": "stream",
     "text": [
      "['manish', 23, 'ahmedabad', 'jaipur', 'M.S', 'Mathura', 'delhi', 'delhi', 'jeet', 'neha', 'shan', 'rahul']\n"
     ]
    }
   ],
   "source": [
    "print(info1)"
   ]
  },
  {
   "cell_type": "code",
   "execution_count": 72,
   "id": "c634fa8f",
   "metadata": {},
   "outputs": [],
   "source": [
    "# for remove element in list :\n",
    "    # 1. pop\n",
    "    # 2. remove\n",
    "    # 3. del"
   ]
  },
  {
   "cell_type": "code",
   "execution_count": 73,
   "id": "82f2c619",
   "metadata": {},
   "outputs": [
    {
     "data": {
      "text/plain": [
       "'rahul'"
      ]
     },
     "execution_count": 73,
     "metadata": {},
     "output_type": "execute_result"
    }
   ],
   "source": [
    "info1.pop()"
   ]
  },
  {
   "cell_type": "code",
   "execution_count": 74,
   "id": "5d20bb01",
   "metadata": {},
   "outputs": [
    {
     "name": "stdout",
     "output_type": "stream",
     "text": [
      "['manish', 23, 'ahmedabad', 'jaipur', 'M.S', 'Mathura', 'delhi', 'delhi', 'jeet', 'neha', 'shan']\n"
     ]
    }
   ],
   "source": [
    "print(info1)"
   ]
  },
  {
   "cell_type": "code",
   "execution_count": 75,
   "id": "bee12655",
   "metadata": {},
   "outputs": [
    {
     "data": {
      "text/plain": [
       "'shan'"
      ]
     },
     "execution_count": 75,
     "metadata": {},
     "output_type": "execute_result"
    }
   ],
   "source": [
    "info1.pop()"
   ]
  },
  {
   "cell_type": "code",
   "execution_count": 76,
   "id": "04b6b905",
   "metadata": {},
   "outputs": [
    {
     "name": "stdout",
     "output_type": "stream",
     "text": [
      "['manish', 23, 'ahmedabad', 'jaipur', 'M.S', 'Mathura', 'delhi', 'delhi', 'jeet', 'neha']\n"
     ]
    }
   ],
   "source": [
    "print(info1)"
   ]
  },
  {
   "cell_type": "code",
   "execution_count": 77,
   "id": "f6c23a22",
   "metadata": {},
   "outputs": [
    {
     "data": {
      "text/plain": [
       "'M.S'"
      ]
     },
     "execution_count": 77,
     "metadata": {},
     "output_type": "execute_result"
    }
   ],
   "source": [
    "info1.pop(4)"
   ]
  },
  {
   "cell_type": "code",
   "execution_count": 78,
   "id": "8a5a8273",
   "metadata": {},
   "outputs": [
    {
     "name": "stdout",
     "output_type": "stream",
     "text": [
      "['manish', 23, 'ahmedabad', 'jaipur', 'Mathura', 'delhi', 'delhi', 'jeet', 'neha']\n"
     ]
    }
   ],
   "source": [
    "print(info1)"
   ]
  },
  {
   "cell_type": "code",
   "execution_count": 79,
   "id": "e66503d9",
   "metadata": {},
   "outputs": [],
   "source": [
    "info1.remove('jaipur')"
   ]
  },
  {
   "cell_type": "code",
   "execution_count": 81,
   "id": "998a5f19",
   "metadata": {},
   "outputs": [
    {
     "name": "stdout",
     "output_type": "stream",
     "text": [
      "['manish', 23, 'ahmedabad', 'Mathura', 'delhi', 'delhi', 'jeet', 'neha']\n"
     ]
    }
   ],
   "source": [
    "print(info1)"
   ]
  },
  {
   "cell_type": "code",
   "execution_count": 82,
   "id": "95e4a346",
   "metadata": {},
   "outputs": [],
   "source": [
    "del info1[1:6]"
   ]
  },
  {
   "cell_type": "code",
   "execution_count": 83,
   "id": "74eaee67",
   "metadata": {},
   "outputs": [
    {
     "data": {
      "text/plain": [
       "['manish', 'jeet', 'neha']"
      ]
     },
     "execution_count": 83,
     "metadata": {},
     "output_type": "execute_result"
    }
   ],
   "source": [
    "info1"
   ]
  },
  {
   "cell_type": "code",
   "execution_count": 84,
   "id": "83dc345f",
   "metadata": {},
   "outputs": [
    {
     "name": "stdout",
     "output_type": "stream",
     "text": [
      "['__add__', '__class__', '__class_getitem__', '__contains__', '__delattr__', '__delitem__', '__dir__', '__doc__', '__eq__', '__format__', '__ge__', '__getattribute__', '__getitem__', '__gt__', '__hash__', '__iadd__', '__imul__', '__init__', '__init_subclass__', '__iter__', '__le__', '__len__', '__lt__', '__mul__', '__ne__', '__new__', '__reduce__', '__reduce_ex__', '__repr__', '__reversed__', '__rmul__', '__setattr__', '__setitem__', '__sizeof__', '__str__', '__subclasshook__', 'append', 'clear', 'copy', 'count', 'extend', 'index', 'insert', 'pop', 'remove', 'reverse', 'sort']\n"
     ]
    }
   ],
   "source": [
    "print(dir(list))"
   ]
  },
  {
   "cell_type": "code",
   "execution_count": 85,
   "id": "c001266f",
   "metadata": {},
   "outputs": [
    {
     "data": {
      "text/plain": [
       "['manish', 'jeet', 'neha']"
      ]
     },
     "execution_count": 85,
     "metadata": {},
     "output_type": "execute_result"
    }
   ],
   "source": [
    "info1"
   ]
  },
  {
   "cell_type": "code",
   "execution_count": 91,
   "id": "e63215ff",
   "metadata": {},
   "outputs": [],
   "source": [
    "info1.sort(reverse=True)"
   ]
  },
  {
   "cell_type": "code",
   "execution_count": 92,
   "id": "ad6b7688",
   "metadata": {},
   "outputs": [
    {
     "data": {
      "text/plain": [
       "['neha', 'manish', 'jeet']"
      ]
     },
     "execution_count": 92,
     "metadata": {},
     "output_type": "execute_result"
    }
   ],
   "source": [
    "info1"
   ]
  },
  {
   "cell_type": "code",
   "execution_count": 89,
   "id": "e47bd39f",
   "metadata": {},
   "outputs": [],
   "source": [
    "p=['manish',10,30,'rahul']"
   ]
  },
  {
   "cell_type": "code",
   "execution_count": 90,
   "id": "f49a056a",
   "metadata": {},
   "outputs": [
    {
     "ename": "TypeError",
     "evalue": "'<' not supported between instances of 'int' and 'str'",
     "output_type": "error",
     "traceback": [
      "\u001b[1;31m---------------------------------------------------------------------------\u001b[0m",
      "\u001b[1;31mTypeError\u001b[0m                                 Traceback (most recent call last)",
      "\u001b[1;32m~\\AppData\\Local\\Temp/ipykernel_6112/1537428003.py\u001b[0m in \u001b[0;36m<module>\u001b[1;34m\u001b[0m\n\u001b[1;32m----> 1\u001b[1;33m \u001b[0mp\u001b[0m\u001b[1;33m.\u001b[0m\u001b[0msort\u001b[0m\u001b[1;33m(\u001b[0m\u001b[1;33m)\u001b[0m\u001b[1;33m\u001b[0m\u001b[1;33m\u001b[0m\u001b[0m\n\u001b[0m",
      "\u001b[1;31mTypeError\u001b[0m: '<' not supported between instances of 'int' and 'str'"
     ]
    }
   ],
   "source": [
    "p.sort()"
   ]
  },
  {
   "cell_type": "code",
   "execution_count": 93,
   "id": "6fdb14a7",
   "metadata": {},
   "outputs": [],
   "source": [
    "p=['sd''f','jeb','gyug']"
   ]
  },
  {
   "cell_type": "code",
   "execution_count": 94,
   "id": "e68ab4ae",
   "metadata": {},
   "outputs": [],
   "source": [
    "p.sort(reverse=True)"
   ]
  },
  {
   "cell_type": "code",
   "execution_count": 95,
   "id": "4713b9d0",
   "metadata": {},
   "outputs": [
    {
     "data": {
      "text/plain": [
       "['sdf', 'jeb', 'gyug']"
      ]
     },
     "execution_count": 95,
     "metadata": {},
     "output_type": "execute_result"
    }
   ],
   "source": [
    "p"
   ]
  },
  {
   "cell_type": "code",
   "execution_count": 96,
   "id": "bc50a3ea",
   "metadata": {},
   "outputs": [],
   "source": [
    "p.reverse()"
   ]
  },
  {
   "cell_type": "code",
   "execution_count": 97,
   "id": "973a16b7",
   "metadata": {},
   "outputs": [
    {
     "data": {
      "text/plain": [
       "['gyug', 'jeb', 'sdf']"
      ]
     },
     "execution_count": 97,
     "metadata": {},
     "output_type": "execute_result"
    }
   ],
   "source": [
    "p"
   ]
  },
  {
   "cell_type": "code",
   "execution_count": 98,
   "id": "ef7a0cd9",
   "metadata": {},
   "outputs": [],
   "source": [
    "p.clear()"
   ]
  },
  {
   "cell_type": "code",
   "execution_count": 99,
   "id": "99560baa",
   "metadata": {},
   "outputs": [
    {
     "data": {
      "text/plain": [
       "[]"
      ]
     },
     "execution_count": 99,
     "metadata": {},
     "output_type": "execute_result"
    }
   ],
   "source": [
    "p"
   ]
  },
  {
   "cell_type": "code",
   "execution_count": 100,
   "id": "ae18ba6d",
   "metadata": {},
   "outputs": [
    {
     "data": {
      "text/plain": [
       "2896689968000"
      ]
     },
     "execution_count": 100,
     "metadata": {},
     "output_type": "execute_result"
    }
   ],
   "source": [
    "id(p)"
   ]
  },
  {
   "cell_type": "code",
   "execution_count": 101,
   "id": "1705d6d7",
   "metadata": {},
   "outputs": [],
   "source": [
    "p=Nul"
   ]
  },
  {
   "cell_type": "code",
   "execution_count": 102,
   "id": "af984137",
   "metadata": {},
   "outputs": [],
   "source": [
    "p"
   ]
  },
  {
   "cell_type": "code",
   "execution_count": 103,
   "id": "d8c4a6c1",
   "metadata": {},
   "outputs": [
    {
     "data": {
      "text/plain": [
       "140720010665176"
      ]
     },
     "execution_count": 103,
     "metadata": {},
     "output_type": "execute_result"
    }
   ],
   "source": [
    "id(p)"
   ]
  },
  {
   "cell_type": "code",
   "execution_count": 104,
   "id": "17685732",
   "metadata": {},
   "outputs": [
    {
     "data": {
      "text/plain": [
       "NoneType"
      ]
     },
     "execution_count": 104,
     "metadata": {},
     "output_type": "execute_result"
    }
   ],
   "source": [
    "type(p)"
   ]
  },
  {
   "cell_type": "code",
   "execution_count": null,
   "id": "08e54a59",
   "metadata": {},
   "outputs": [],
   "source": [
    "9166319212"
   ]
  }
 ],
 "metadata": {
  "kernelspec": {
   "display_name": "Python 3 (ipykernel)",
   "language": "python",
   "name": "python3"
  },
  "language_info": {
   "codemirror_mode": {
    "name": "ipython",
    "version": 3
   },
   "file_extension": ".py",
   "mimetype": "text/x-python",
   "name": "python",
   "nbconvert_exporter": "python",
   "pygments_lexer": "ipython3",
   "version": "3.9.6"
  }
 },
 "nbformat": 4,
 "nbformat_minor": 5
}
