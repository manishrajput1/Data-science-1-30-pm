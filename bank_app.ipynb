{
 "cells": [
  {
   "cell_type": "code",
   "execution_count": 1,
   "id": "baa54ff6",
   "metadata": {},
   "outputs": [],
   "source": [
    "# how to send mail in python with the help of smtp module"
   ]
  },
  {
   "cell_type": "code",
   "execution_count": 2,
   "id": "3596275d",
   "metadata": {},
   "outputs": [],
   "source": [
    "import smtplib"
   ]
  },
  {
   "cell_type": "code",
   "execution_count": 3,
   "id": "62952b69",
   "metadata": {},
   "outputs": [],
   "source": [
    "# hostname, portnumber\n",
    "# gmail---\n",
    "# hostname --> smtp.gmail.com\n",
    "# port ---> 587"
   ]
  },
  {
   "cell_type": "code",
   "execution_count": 7,
   "id": "d9d5855f",
   "metadata": {},
   "outputs": [
    {
     "name": "stdout",
     "output_type": "stream",
     "text": [
      "········\n",
      "mail sent......\n"
     ]
    }
   ],
   "source": [
    "from getpass import getpass\n",
    "import smtplib\n",
    "connection=smtplib.SMTP('smtp.gmail.com',587)\n",
    "connection.starttls()\n",
    "pas=getpass()\n",
    "connection.login('bankapplication7@gmail.com',pas)\n",
    "connection.sendmail('bankapplication7@gmail.com','chiragpanpaliya53@gmail.com','Subject: OTP \\n\\n hello chirag i am sending otp')\n",
    "connection.close()\n",
    "print('mail sent......')"
   ]
  },
  {
   "cell_type": "code",
   "execution_count": 40,
   "id": "dcf943e0",
   "metadata": {},
   "outputs": [],
   "source": [
    "def OTP():\n",
    "    otp=''\n",
    "    for i in range(4):\n",
    "        otp=otp+str(random.randint(0,9))\n",
    "    return otp"
   ]
  },
  {
   "cell_type": "code",
   "execution_count": 8,
   "id": "1abac7b1",
   "metadata": {},
   "outputs": [],
   "source": [
    "data={1001:{'name':'manish','age':23,'email':'rmanish911@gmail.com','pass':'mann@','bal':50000},\n",
    "     1002:{'name':'shan','age':30,'email':'shan@gmail.com','pass':'shanu@123','bal':60000},\n",
    "     1003:{'name':'shahrukh','age':27,'email':'khan@gmail.com','pass':'khan786','bal':65000}}"
   ]
  },
  {
   "cell_type": "code",
   "execution_count": 9,
   "id": "f8b5913b",
   "metadata": {},
   "outputs": [
    {
     "name": "stdout",
     "output_type": "stream",
     "text": [
      "{1001: {'name': 'manish', 'age': 23, 'email': 'rmanish911@gmail.com', 'pass': 'mann@', 'bal': 50000}, 1002: {'name': 'shan', 'age': 30, 'email': 'shan@gmail.com', 'pass': 'shanu@123', 'bal': 60000}, 1003: {'name': 'shahrukh', 'age': 27, 'email': 'khan@gmail.com', 'pass': 'khan786', 'bal': 65000}}\n"
     ]
    }
   ],
   "source": [
    "print(data)"
   ]
  },
  {
   "cell_type": "code",
   "execution_count": 10,
   "id": "898a84ee",
   "metadata": {},
   "outputs": [],
   "source": [
    "from pprint import pprint"
   ]
  },
  {
   "cell_type": "code",
   "execution_count": 11,
   "id": "d85adf3a",
   "metadata": {},
   "outputs": [
    {
     "name": "stdout",
     "output_type": "stream",
     "text": [
      "{1001: {'age': 23,\n",
      "        'bal': 50000,\n",
      "        'email': 'rmanish911@gmail.com',\n",
      "        'name': 'manish',\n",
      "        'pass': 'mann@'},\n",
      " 1002: {'age': 30,\n",
      "        'bal': 60000,\n",
      "        'email': 'shan@gmail.com',\n",
      "        'name': 'shan',\n",
      "        'pass': 'shanu@123'},\n",
      " 1003: {'age': 27,\n",
      "        'bal': 65000,\n",
      "        'email': 'khan@gmail.com',\n",
      "        'name': 'shahrukh',\n",
      "        'pass': 'khan786'}}\n"
     ]
    }
   ],
   "source": [
    "pprint(data)"
   ]
  },
  {
   "cell_type": "code",
   "execution_count": 14,
   "id": "f2c8d1b4",
   "metadata": {},
   "outputs": [],
   "source": [
    "data[1002]['email']='sudharshan@gmail.com'"
   ]
  },
  {
   "cell_type": "code",
   "execution_count": 15,
   "id": "5fab3678",
   "metadata": {},
   "outputs": [
    {
     "data": {
      "text/plain": [
       "{'name': 'shan',\n",
       " 'age': 30,\n",
       " 'email': 'sudharshan@gmail.com',\n",
       " 'pass': 'shanu@123',\n",
       " 'bal': 60000}"
      ]
     },
     "execution_count": 15,
     "metadata": {},
     "output_type": "execute_result"
    }
   ],
   "source": []
  },
  {
   "cell_type": "markdown",
   "id": "1b676341",
   "metadata": {},
   "source": [
    "# Bank Application"
   ]
  },
  {
   "cell_type": "code",
   "execution_count": 16,
   "id": "96c0059a",
   "metadata": {},
   "outputs": [],
   "source": [
    "# login-\n",
    "# signup\n"
   ]
  },
  {
   "cell_type": "code",
   "execution_count": 41,
   "id": "ea9ff823",
   "metadata": {},
   "outputs": [],
   "source": [
    "import sys\n",
    "import time\n",
    "import random\n",
    "from getpass import getpass\n",
    "\n",
    "def main():\n",
    "    print('*'*101)\n",
    "    print('*'*101)\n",
    "    print('Welcome to bank application'.center(90))\n",
    "    print('*'*101)\n",
    "    print('*'*101)\n",
    "    print()\n",
    "    print('1. Login \\t\\t 2. Signup \\t\\t 3. Exit ')\n",
    "    print()\n",
    "    usr=int(input('Enter your choice: '))\n",
    "    if usr==1:\n",
    "        Login()\n",
    "    elif usr==2:\n",
    "        Signup()\n",
    "    elif usr==3:\n",
    "        sys.exit()\n",
    "    else:\n",
    "        print('Invalid choice.....')\n",
    "        time.sleep(1)\n",
    "        main()\n",
    "def Login():\n",
    "    ac=int(input('Enter your account no. :'))\n",
    "    if ac in data.keys():\n",
    "        pas=getpass('Enter password: ')\n",
    "        if pas==data[ac]['pass']:\n",
    "            print('Login success.....')\n",
    "        else:\n",
    "            print('invalid username or password')\n",
    "    else:\n",
    "        print('no result found  .... first go to signup')\n",
    "        time.sleep(1)\n",
    "        print()\n",
    "        print('redirecting......')\n",
    "        time.sleep(1)\n",
    "        Signup()\n",
    "def Signup():\n",
    "    name=input('Enter your name: ')\n",
    "    age=int(input('Enter your age'))\n",
    "    email=input('Enter your email: ')\n",
    "    pas=getpass('Enter your password: ')\n",
    "    bal=5000\n",
    "    ac=list(data.keys())[-1]+1\n",
    "    otp=OTP()\n",
    "    import smtplib\n",
    "    connection=smtplib.SMTP('smtp.gmail.com',587)\n",
    "    connection.starttls()\n",
    "    connection.login('bankapplication7@gmail.com',\"Bankapp@\")\n",
    "    connection.sendmail('bankapplication7@gmail.com',email,f'Subject: OTP \\n\\n {otp}')\n",
    "    connection.close()\n",
    "    print('otp sent......')\n",
    "    time.sleep(2)\n",
    "    ot=input('Enter otp : ')\n",
    "    if ot==otp:\n",
    "        data[ac]={'name':name,'email':email,'age':age,'bal':bal,'pass':pas}\n",
    "        print('your account created successfully done: ')\n",
    "        print(f'your account number is {ac} now you can login...')\n",
    "    else:\n",
    "        print('invalid otp')"
   ]
  },
  {
   "cell_type": "code",
   "execution_count": 36,
   "id": "bab9917f",
   "metadata": {},
   "outputs": [
    {
     "name": "stdout",
     "output_type": "stream",
     "text": [
      "*****************************************************************************************************\n",
      "*****************************************************************************************************\n",
      "                               Welcome to bank application                                \n",
      "*****************************************************************************************************\n",
      "*****************************************************************************************************\n",
      "\n",
      "1. Login \t\t 2. Signup \t\t 3. Exit \n",
      "\n",
      "Enter your choice: 1\n",
      "Enter your account no. :1001\n",
      "Enter password: ········\n",
      "invalid username or password\n"
     ]
    }
   ],
   "source": [
    "\n",
    "main()"
   ]
  },
  {
   "cell_type": "code",
   "execution_count": 39,
   "id": "831ea02c",
   "metadata": {},
   "outputs": [
    {
     "data": {
      "text/plain": [
       "1004"
      ]
     },
     "execution_count": 39,
     "metadata": {},
     "output_type": "execute_result"
    }
   ],
   "source": [
    "list(data.keys())[-1]+1"
   ]
  },
  {
   "cell_type": "code",
   "execution_count": 42,
   "id": "ad5b46bf",
   "metadata": {},
   "outputs": [
    {
     "name": "stdout",
     "output_type": "stream",
     "text": [
      "*****************************************************************************************************\n",
      "*****************************************************************************************************\n",
      "                               Welcome to bank application                                \n",
      "*****************************************************************************************************\n",
      "*****************************************************************************************************\n",
      "\n",
      "1. Login \t\t 2. Signup \t\t 3. Exit \n",
      "\n",
      "Enter your choice: 2\n",
      "Enter your name: chirag\n",
      "Enter your age22\n",
      "Enter your email: chiragpanpaliya53@gmail.com\n",
      "Enter your password: ········\n",
      "otp sent......\n",
      "Enter otp : 2204\n",
      "your account created successfully done: \n",
      "your account number is 1004 now you can login...\n"
     ]
    }
   ],
   "source": [
    "main()"
   ]
  },
  {
   "cell_type": "code",
   "execution_count": 43,
   "id": "5261d655",
   "metadata": {},
   "outputs": [
    {
     "name": "stdout",
     "output_type": "stream",
     "text": [
      "{1001: {'age': 23,\n",
      "        'bal': 50000,\n",
      "        'email': 'rmanish911@gmail.com',\n",
      "        'name': 'manish',\n",
      "        'pass': 'mann@'},\n",
      " 1002: {'age': 30,\n",
      "        'bal': 60000,\n",
      "        'email': 'sudharshan@gmail.com',\n",
      "        'name': 'shan',\n",
      "        'pass': 'shanu@123'},\n",
      " 1003: {'age': 27,\n",
      "        'bal': 65000,\n",
      "        'email': 'khan@gmail.com',\n",
      "        'name': 'shahrukh',\n",
      "        'pass': 'khan786'},\n",
      " 1004: {'age': 22,\n",
      "        'bal': 5000,\n",
      "        'email': 'chiragpanpaliya53@gmail.com',\n",
      "        'name': 'chirag',\n",
      "        'pass': 'chirah'}}\n"
     ]
    }
   ],
   "source": [
    "pprint(data)"
   ]
  },
  {
   "cell_type": "code",
   "execution_count": null,
   "id": "35e273fb",
   "metadata": {},
   "outputs": [],
   "source": []
  }
 ],
 "metadata": {
  "kernelspec": {
   "display_name": "Python 3 (ipykernel)",
   "language": "python",
   "name": "python3"
  },
  "language_info": {
   "codemirror_mode": {
    "name": "ipython",
    "version": 3
   },
   "file_extension": ".py",
   "mimetype": "text/x-python",
   "name": "python",
   "nbconvert_exporter": "python",
   "pygments_lexer": "ipython3",
   "version": "3.9.6"
  }
 },
 "nbformat": 4,
 "nbformat_minor": 5
}
